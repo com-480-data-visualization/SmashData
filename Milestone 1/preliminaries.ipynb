{
 "cells": [
  {
   "cell_type": "markdown",
   "metadata": {},
   "source": [
    "### This notebook contains the preliminary preprocessing and exploration done on our dataset before we start our visualization project."
   ]
  },
  {
   "cell_type": "markdown",
   "metadata": {},
   "source": [
    "# Data Preprocessing"
   ]
  },
  {
   "cell_type": "code",
   "execution_count": 74,
   "metadata": {},
   "outputs": [],
   "source": [
    "import pandas as pd\n",
    "import os\n",
    "import re\n",
    "import seaborn as sns\n",
    "\n"
   ]
  },
  {
   "cell_type": "markdown",
   "metadata": {},
   "source": [
    "## Data Import"
   ]
  },
  {
   "cell_type": "code",
   "execution_count": 75,
   "metadata": {},
   "outputs": [],
   "source": [
    "# Define paths\n",
    "data_dir = './data'\n",
    "tours = ['atp_mens_tour', 'wta_womens_tour']\n"
   ]
  },
  {
   "cell_type": "code",
   "execution_count": 76,
   "metadata": {},
   "outputs": [
    {
     "name": "stdout",
     "output_type": "stream",
     "text": [
      "Converting ./data/atp_mens_tour/2021.xlsx...\n",
      "Converting ./data/atp_mens_tour/2006.xls...\n",
      "Converting ./data/atp_mens_tour/2012.xls...\n",
      "Converting ./data/atp_mens_tour/2007.xls...\n",
      "Converting ./data/atp_mens_tour/2011.xls...\n",
      "Converting ./data/atp_mens_tour/2005.xls...\n",
      "Converting ./data/atp_mens_tour/2004.xls...\n",
      "Converting ./data/atp_mens_tour/2010.xls...\n",
      "Converting ./data/atp_mens_tour/2017.xlsx...\n",
      "Converting ./data/atp_mens_tour/2016.xlsx...\n"
     ]
    },
    {
     "name": "stderr",
     "output_type": "stream",
     "text": [
      "/Users/karine/opt/miniconda3/lib/python3.10/site-packages/openpyxl/worksheet/_reader.py:329: UserWarning: Unknown extension is not supported and will be removed\n",
      "  warn(msg)\n"
     ]
    },
    {
     "name": "stdout",
     "output_type": "stream",
     "text": [
      "Converting ./data/atp_mens_tour/2000.xls...\n",
      "Converting ./data/atp_mens_tour/2001.xls...\n",
      "Converting ./data/atp_mens_tour/2003.xls...\n",
      "Converting ./data/atp_mens_tour/2020.xlsx...\n",
      "Converting ./data/atp_mens_tour/2002.xls...\n",
      "Converting ./data/atp_mens_tour/2013.xlsx...\n"
     ]
    },
    {
     "name": "stderr",
     "output_type": "stream",
     "text": [
      "/Users/karine/opt/miniconda3/lib/python3.10/site-packages/openpyxl/worksheet/_reader.py:329: UserWarning: Unknown extension is not supported and will be removed\n",
      "  warn(msg)\n"
     ]
    },
    {
     "name": "stdout",
     "output_type": "stream",
     "text": [
      "Converting ./data/atp_mens_tour/2019.xlsx...\n",
      "Converting ./data/atp_mens_tour/2023.xlsx...\n",
      "Converting ./data/atp_mens_tour/2015.xlsx...\n"
     ]
    },
    {
     "name": "stderr",
     "output_type": "stream",
     "text": [
      "/Users/karine/opt/miniconda3/lib/python3.10/site-packages/openpyxl/worksheet/_reader.py:329: UserWarning: Unknown extension is not supported and will be removed\n",
      "  warn(msg)\n"
     ]
    },
    {
     "name": "stdout",
     "output_type": "stream",
     "text": [
      "Converting ./data/atp_mens_tour/2009.xls...\n",
      "Converting ./data/atp_mens_tour/2008.xls...\n",
      "Converting ./data/atp_mens_tour/2014.xlsx...\n"
     ]
    },
    {
     "name": "stderr",
     "output_type": "stream",
     "text": [
      "/Users/karine/opt/miniconda3/lib/python3.10/site-packages/openpyxl/worksheet/_reader.py:329: UserWarning: Unknown extension is not supported and will be removed\n",
      "  warn(msg)\n"
     ]
    },
    {
     "name": "stdout",
     "output_type": "stream",
     "text": [
      "Converting ./data/atp_mens_tour/2022.xlsx...\n",
      "Converting ./data/atp_mens_tour/2018.xlsx...\n",
      "Converting ./data/wta_womens_tour/2021.xlsx...\n",
      "Converting ./data/wta_womens_tour/2012.xls...\n",
      "Converting ./data/wta_womens_tour/2007.xls...\n",
      "Converting ./data/wta_womens_tour/2011.xls...\n",
      "Converting ./data/wta_womens_tour/2010.xls...\n",
      "Converting ./data/wta_womens_tour/2017.xlsx...\n",
      "Converting ./data/wta_womens_tour/2016.xlsx...\n"
     ]
    },
    {
     "name": "stderr",
     "output_type": "stream",
     "text": [
      "/Users/karine/opt/miniconda3/lib/python3.10/site-packages/openpyxl/worksheet/_reader.py:329: UserWarning: Unknown extension is not supported and will be removed\n",
      "  warn(msg)\n"
     ]
    },
    {
     "name": "stdout",
     "output_type": "stream",
     "text": [
      "Converting ./data/wta_womens_tour/2020.xlsx...\n",
      "Converting ./data/wta_womens_tour/2013.xlsx...\n"
     ]
    },
    {
     "name": "stderr",
     "output_type": "stream",
     "text": [
      "/Users/karine/opt/miniconda3/lib/python3.10/site-packages/openpyxl/worksheet/_reader.py:329: UserWarning: Unknown extension is not supported and will be removed\n",
      "  warn(msg)\n"
     ]
    },
    {
     "name": "stdout",
     "output_type": "stream",
     "text": [
      "Converting ./data/wta_womens_tour/2019.xlsx...\n",
      "Converting ./data/wta_womens_tour/2023.xlsx...\n",
      "Converting ./data/wta_womens_tour/2015.xlsx...\n"
     ]
    },
    {
     "name": "stderr",
     "output_type": "stream",
     "text": [
      "/Users/karine/opt/miniconda3/lib/python3.10/site-packages/openpyxl/worksheet/_reader.py:329: UserWarning: Unknown extension is not supported and will be removed\n",
      "  warn(msg)\n"
     ]
    },
    {
     "name": "stdout",
     "output_type": "stream",
     "text": [
      "Converting ./data/wta_womens_tour/2009.xls...\n",
      "Converting ./data/wta_womens_tour/2008.xls...\n",
      "Converting ./data/wta_womens_tour/2014.xlsx...\n"
     ]
    },
    {
     "name": "stderr",
     "output_type": "stream",
     "text": [
      "/Users/karine/opt/miniconda3/lib/python3.10/site-packages/openpyxl/worksheet/_reader.py:329: UserWarning: Unknown extension is not supported and will be removed\n",
      "  warn(msg)\n"
     ]
    },
    {
     "name": "stdout",
     "output_type": "stream",
     "text": [
      "Converting ./data/wta_womens_tour/2022.xlsx...\n",
      "Converting ./data/wta_womens_tour/2018.xlsx...\n"
     ]
    }
   ],
   "source": [
    "# Loop through ATP & WTA folders\n",
    "for tour in tours:\n",
    "    tour_path = os.path.join(data_dir, tour)\n",
    "    \n",
    "    for file_name in os.listdir(tour_path):\n",
    "        if file_name.endswith(('.xls', '.xlsx')):\n",
    "            file_path = os.path.join(tour_path, file_name)\n",
    "            print(f'Converting {file_path}...')\n",
    "            \n",
    "            # Read Excel\n",
    "            df = pd.read_excel(file_path)\n",
    "            \n",
    "            # Define CSV output path\n",
    "            csv_file = file_name.rsplit('.', 1)[0] + '.csv'\n",
    "            csv_path = os.path.join(tour_path, csv_file)\n",
    "            \n",
    "            # Save as CSV\n",
    "            df.to_csv(csv_path, index=False)"
   ]
  },
  {
   "cell_type": "code",
   "execution_count": 77,
   "metadata": {},
   "outputs": [
    {
     "name": "stdout",
     "output_type": "stream",
     "text": [
      "Moving ./data/atp_mens_tour/2008.csv to ./csv_data/atp_mens_tour/2008.csv\n",
      "Moving ./data/atp_mens_tour/2020.csv to ./csv_data/atp_mens_tour/2020.csv\n",
      "Moving ./data/atp_mens_tour/2021.csv to ./csv_data/atp_mens_tour/2021.csv\n",
      "Moving ./data/atp_mens_tour/2009.csv to ./csv_data/atp_mens_tour/2009.csv\n",
      "Moving ./data/atp_mens_tour/2023.csv to ./csv_data/atp_mens_tour/2023.csv\n",
      "Moving ./data/atp_mens_tour/2022.csv to ./csv_data/atp_mens_tour/2022.csv\n",
      "Moving ./data/atp_mens_tour/2019.csv to ./csv_data/atp_mens_tour/2019.csv\n",
      "Moving ./data/atp_mens_tour/2018.csv to ./csv_data/atp_mens_tour/2018.csv\n",
      "Moving ./data/atp_mens_tour/2001.csv to ./csv_data/atp_mens_tour/2001.csv\n",
      "Moving ./data/atp_mens_tour/2015.csv to ./csv_data/atp_mens_tour/2015.csv\n",
      "Moving ./data/atp_mens_tour/2014.csv to ./csv_data/atp_mens_tour/2014.csv\n",
      "Moving ./data/atp_mens_tour/2000.csv to ./csv_data/atp_mens_tour/2000.csv\n",
      "Moving ./data/atp_mens_tour/2016.csv to ./csv_data/atp_mens_tour/2016.csv\n",
      "Moving ./data/atp_mens_tour/2002.csv to ./csv_data/atp_mens_tour/2002.csv\n",
      "Moving ./data/atp_mens_tour/2003.csv to ./csv_data/atp_mens_tour/2003.csv\n",
      "Moving ./data/atp_mens_tour/2017.csv to ./csv_data/atp_mens_tour/2017.csv\n",
      "Moving ./data/atp_mens_tour/2013.csv to ./csv_data/atp_mens_tour/2013.csv\n",
      "Moving ./data/atp_mens_tour/2007.csv to ./csv_data/atp_mens_tour/2007.csv\n",
      "Moving ./data/atp_mens_tour/2006.csv to ./csv_data/atp_mens_tour/2006.csv\n",
      "Moving ./data/atp_mens_tour/2012.csv to ./csv_data/atp_mens_tour/2012.csv\n",
      "Moving ./data/atp_mens_tour/2004.csv to ./csv_data/atp_mens_tour/2004.csv\n",
      "Moving ./data/atp_mens_tour/2010.csv to ./csv_data/atp_mens_tour/2010.csv\n",
      "Moving ./data/atp_mens_tour/2011.csv to ./csv_data/atp_mens_tour/2011.csv\n",
      "Moving ./data/atp_mens_tour/2005.csv to ./csv_data/atp_mens_tour/2005.csv\n",
      "Moving ./data/wta_womens_tour/2008.csv to ./csv_data/wta_womens_tour/2008.csv\n",
      "Moving ./data/wta_womens_tour/2020.csv to ./csv_data/wta_womens_tour/2020.csv\n",
      "Moving ./data/wta_womens_tour/2021.csv to ./csv_data/wta_womens_tour/2021.csv\n",
      "Moving ./data/wta_womens_tour/2009.csv to ./csv_data/wta_womens_tour/2009.csv\n",
      "Moving ./data/wta_womens_tour/2023.csv to ./csv_data/wta_womens_tour/2023.csv\n",
      "Moving ./data/wta_womens_tour/2022.csv to ./csv_data/wta_womens_tour/2022.csv\n",
      "Moving ./data/wta_womens_tour/2019.csv to ./csv_data/wta_womens_tour/2019.csv\n",
      "Moving ./data/wta_womens_tour/2018.csv to ./csv_data/wta_womens_tour/2018.csv\n",
      "Moving ./data/wta_womens_tour/2015.csv to ./csv_data/wta_womens_tour/2015.csv\n",
      "Moving ./data/wta_womens_tour/2014.csv to ./csv_data/wta_womens_tour/2014.csv\n",
      "Moving ./data/wta_womens_tour/2016.csv to ./csv_data/wta_womens_tour/2016.csv\n",
      "Moving ./data/wta_womens_tour/2017.csv to ./csv_data/wta_womens_tour/2017.csv\n",
      "Moving ./data/wta_womens_tour/2013.csv to ./csv_data/wta_womens_tour/2013.csv\n",
      "Moving ./data/wta_womens_tour/2007.csv to ./csv_data/wta_womens_tour/2007.csv\n",
      "Moving ./data/wta_womens_tour/2012.csv to ./csv_data/wta_womens_tour/2012.csv\n",
      "Moving ./data/wta_womens_tour/2010.csv to ./csv_data/wta_womens_tour/2010.csv\n",
      "Moving ./data/wta_womens_tour/2011.csv to ./csv_data/wta_womens_tour/2011.csv\n",
      "✅ CSV files moved to new folders!\n"
     ]
    }
   ],
   "source": [
    "# Define target directory for CSVs\n",
    "target_dir = './csv_data'\n",
    "\n",
    "# Loop through ATP & WTA folders again to move CSVs\n",
    "for tour in tours:\n",
    "    source_tour_path = os.path.join(data_dir, tour)\n",
    "    target_tour_path = os.path.join(target_dir, tour)\n",
    "    \n",
    "    # Create target folder if not exists\n",
    "    os.makedirs(target_tour_path, exist_ok=True)\n",
    "    \n",
    "    for file_name in os.listdir(source_tour_path):\n",
    "        if file_name.endswith('.csv'):\n",
    "            source_file = os.path.join(source_tour_path, file_name)\n",
    "            target_file = os.path.join(target_tour_path, file_name)\n",
    "            \n",
    "            print(f'Moving {source_file} to {target_file}')\n",
    "            # Move the CSV file\n",
    "            os.replace(source_file, target_file)\n",
    "\n",
    "print('✅ CSV files moved to new folders!')\n"
   ]
  },
  {
   "cell_type": "code",
   "execution_count": 78,
   "metadata": {},
   "outputs": [
    {
     "name": "stdout",
     "output_type": "stream",
     "text": [
      "Loading ./csv_data/atp_mens_tour/2008.csv...\n",
      "Loading ./csv_data/atp_mens_tour/2020.csv...\n",
      "Loading ./csv_data/atp_mens_tour/2021.csv...\n",
      "Loading ./csv_data/atp_mens_tour/2009.csv...\n",
      "Loading ./csv_data/atp_mens_tour/2023.csv...\n",
      "Loading ./csv_data/atp_mens_tour/2022.csv...\n",
      "Loading ./csv_data/atp_mens_tour/2019.csv...\n",
      "Loading ./csv_data/atp_mens_tour/2018.csv...\n",
      "Loading ./csv_data/atp_mens_tour/2001.csv...\n",
      "Loading ./csv_data/atp_mens_tour/2015.csv...\n",
      "Loading ./csv_data/atp_mens_tour/2014.csv...\n",
      "Loading ./csv_data/atp_mens_tour/2000.csv...\n",
      "Loading ./csv_data/atp_mens_tour/2016.csv...\n",
      "Loading ./csv_data/atp_mens_tour/2002.csv...\n",
      "Loading ./csv_data/atp_mens_tour/2003.csv...\n",
      "Loading ./csv_data/atp_mens_tour/2017.csv...\n",
      "Loading ./csv_data/atp_mens_tour/2013.csv...\n",
      "Loading ./csv_data/atp_mens_tour/2007.csv...\n",
      "Loading ./csv_data/atp_mens_tour/2006.csv...\n",
      "Loading ./csv_data/atp_mens_tour/2012.csv...\n",
      "Loading ./csv_data/atp_mens_tour/2004.csv...\n",
      "Loading ./csv_data/atp_mens_tour/2010.csv...\n",
      "Loading ./csv_data/atp_mens_tour/2011.csv...\n",
      "Loading ./csv_data/atp_mens_tour/2005.csv...\n",
      "Loading ./csv_data/wta_womens_tour/2008.csv...\n",
      "Loading ./csv_data/wta_womens_tour/2020.csv...\n",
      "Loading ./csv_data/wta_womens_tour/2021.csv...\n",
      "Loading ./csv_data/wta_womens_tour/2009.csv...\n",
      "Loading ./csv_data/wta_womens_tour/2023.csv...\n",
      "Loading ./csv_data/wta_womens_tour/2022.csv...\n",
      "Loading ./csv_data/wta_womens_tour/2019.csv...\n",
      "Loading ./csv_data/wta_womens_tour/2018.csv...\n",
      "Loading ./csv_data/wta_womens_tour/2015.csv...\n",
      "Loading ./csv_data/wta_womens_tour/2014.csv...\n",
      "Loading ./csv_data/wta_womens_tour/2016.csv...\n",
      "Loading ./csv_data/wta_womens_tour/2017.csv...\n",
      "Loading ./csv_data/wta_womens_tour/2013.csv...\n",
      "Loading ./csv_data/wta_womens_tour/2007.csv...\n",
      "Loading ./csv_data/wta_womens_tour/2012.csv...\n",
      "Loading ./csv_data/wta_womens_tour/2010.csv...\n",
      "Loading ./csv_data/wta_womens_tour/2011.csv...\n",
      "\n",
      "Total records loaded: 103021\n"
     ]
    },
    {
     "data": {
      "text/html": [
       "<div>\n",
       "<style scoped>\n",
       "    .dataframe tbody tr th:only-of-type {\n",
       "        vertical-align: middle;\n",
       "    }\n",
       "\n",
       "    .dataframe tbody tr th {\n",
       "        vertical-align: top;\n",
       "    }\n",
       "\n",
       "    .dataframe thead th {\n",
       "        text-align: right;\n",
       "    }\n",
       "</style>\n",
       "<table border=\"1\" class=\"dataframe\">\n",
       "  <thead>\n",
       "    <tr style=\"text-align: right;\">\n",
       "      <th></th>\n",
       "      <th>ATP</th>\n",
       "      <th>Location</th>\n",
       "      <th>Tournament</th>\n",
       "      <th>Date</th>\n",
       "      <th>Series</th>\n",
       "      <th>Court</th>\n",
       "      <th>Surface</th>\n",
       "      <th>Round</th>\n",
       "      <th>Best of</th>\n",
       "      <th>Winner</th>\n",
       "      <th>...</th>\n",
       "      <th>GBW</th>\n",
       "      <th>GBL</th>\n",
       "      <th>IWW</th>\n",
       "      <th>IWL</th>\n",
       "      <th>SBW</th>\n",
       "      <th>SBL</th>\n",
       "      <th>B&amp;WW</th>\n",
       "      <th>B&amp;WL</th>\n",
       "      <th>WTA</th>\n",
       "      <th>Tier</th>\n",
       "    </tr>\n",
       "  </thead>\n",
       "  <tbody>\n",
       "    <tr>\n",
       "      <th>0</th>\n",
       "      <td>1.0</td>\n",
       "      <td>Adelaide</td>\n",
       "      <td>Next Generation Adelaide International</td>\n",
       "      <td>2007-12-31</td>\n",
       "      <td>International</td>\n",
       "      <td>Outdoor</td>\n",
       "      <td>Hard</td>\n",
       "      <td>1st Round</td>\n",
       "      <td>3.0</td>\n",
       "      <td>Querrey S.</td>\n",
       "      <td>...</td>\n",
       "      <td>NaN</td>\n",
       "      <td>NaN</td>\n",
       "      <td>NaN</td>\n",
       "      <td>NaN</td>\n",
       "      <td>NaN</td>\n",
       "      <td>NaN</td>\n",
       "      <td>NaN</td>\n",
       "      <td>NaN</td>\n",
       "      <td>NaN</td>\n",
       "      <td>NaN</td>\n",
       "    </tr>\n",
       "    <tr>\n",
       "      <th>1</th>\n",
       "      <td>1.0</td>\n",
       "      <td>Adelaide</td>\n",
       "      <td>Next Generation Adelaide International</td>\n",
       "      <td>2007-12-31</td>\n",
       "      <td>International</td>\n",
       "      <td>Outdoor</td>\n",
       "      <td>Hard</td>\n",
       "      <td>1st Round</td>\n",
       "      <td>3.0</td>\n",
       "      <td>Sirianni J.</td>\n",
       "      <td>...</td>\n",
       "      <td>NaN</td>\n",
       "      <td>NaN</td>\n",
       "      <td>NaN</td>\n",
       "      <td>NaN</td>\n",
       "      <td>NaN</td>\n",
       "      <td>NaN</td>\n",
       "      <td>NaN</td>\n",
       "      <td>NaN</td>\n",
       "      <td>NaN</td>\n",
       "      <td>NaN</td>\n",
       "    </tr>\n",
       "    <tr>\n",
       "      <th>2</th>\n",
       "      <td>1.0</td>\n",
       "      <td>Adelaide</td>\n",
       "      <td>Next Generation Adelaide International</td>\n",
       "      <td>2007-12-31</td>\n",
       "      <td>International</td>\n",
       "      <td>Outdoor</td>\n",
       "      <td>Hard</td>\n",
       "      <td>1st Round</td>\n",
       "      <td>3.0</td>\n",
       "      <td>Russell M.</td>\n",
       "      <td>...</td>\n",
       "      <td>NaN</td>\n",
       "      <td>NaN</td>\n",
       "      <td>NaN</td>\n",
       "      <td>NaN</td>\n",
       "      <td>NaN</td>\n",
       "      <td>NaN</td>\n",
       "      <td>NaN</td>\n",
       "      <td>NaN</td>\n",
       "      <td>NaN</td>\n",
       "      <td>NaN</td>\n",
       "    </tr>\n",
       "    <tr>\n",
       "      <th>3</th>\n",
       "      <td>1.0</td>\n",
       "      <td>Adelaide</td>\n",
       "      <td>Next Generation Adelaide International</td>\n",
       "      <td>2007-12-31</td>\n",
       "      <td>International</td>\n",
       "      <td>Outdoor</td>\n",
       "      <td>Hard</td>\n",
       "      <td>1st Round</td>\n",
       "      <td>3.0</td>\n",
       "      <td>Becker B.</td>\n",
       "      <td>...</td>\n",
       "      <td>NaN</td>\n",
       "      <td>NaN</td>\n",
       "      <td>NaN</td>\n",
       "      <td>NaN</td>\n",
       "      <td>NaN</td>\n",
       "      <td>NaN</td>\n",
       "      <td>NaN</td>\n",
       "      <td>NaN</td>\n",
       "      <td>NaN</td>\n",
       "      <td>NaN</td>\n",
       "    </tr>\n",
       "    <tr>\n",
       "      <th>4</th>\n",
       "      <td>1.0</td>\n",
       "      <td>Adelaide</td>\n",
       "      <td>Next Generation Adelaide International</td>\n",
       "      <td>2007-12-31</td>\n",
       "      <td>International</td>\n",
       "      <td>Outdoor</td>\n",
       "      <td>Hard</td>\n",
       "      <td>1st Round</td>\n",
       "      <td>3.0</td>\n",
       "      <td>Zverev M.</td>\n",
       "      <td>...</td>\n",
       "      <td>NaN</td>\n",
       "      <td>NaN</td>\n",
       "      <td>NaN</td>\n",
       "      <td>NaN</td>\n",
       "      <td>NaN</td>\n",
       "      <td>NaN</td>\n",
       "      <td>NaN</td>\n",
       "      <td>NaN</td>\n",
       "      <td>NaN</td>\n",
       "      <td>NaN</td>\n",
       "    </tr>\n",
       "  </tbody>\n",
       "</table>\n",
       "<p>5 rows × 58 columns</p>\n",
       "</div>"
      ],
      "text/plain": [
       "   ATP  Location                              Tournament        Date  \\\n",
       "0  1.0  Adelaide  Next Generation Adelaide International  2007-12-31   \n",
       "1  1.0  Adelaide  Next Generation Adelaide International  2007-12-31   \n",
       "2  1.0  Adelaide  Next Generation Adelaide International  2007-12-31   \n",
       "3  1.0  Adelaide  Next Generation Adelaide International  2007-12-31   \n",
       "4  1.0  Adelaide  Next Generation Adelaide International  2007-12-31   \n",
       "\n",
       "          Series    Court Surface      Round  Best of       Winner  ... GBW  \\\n",
       "0  International  Outdoor    Hard  1st Round      3.0   Querrey S.  ... NaN   \n",
       "1  International  Outdoor    Hard  1st Round      3.0  Sirianni J.  ... NaN   \n",
       "2  International  Outdoor    Hard  1st Round      3.0   Russell M.  ... NaN   \n",
       "3  International  Outdoor    Hard  1st Round      3.0    Becker B.  ... NaN   \n",
       "4  International  Outdoor    Hard  1st Round      3.0    Zverev M.  ... NaN   \n",
       "\n",
       "  GBL IWW  IWL  SBW  SBL  B&WW B&WL WTA Tier  \n",
       "0 NaN NaN  NaN  NaN  NaN   NaN  NaN NaN  NaN  \n",
       "1 NaN NaN  NaN  NaN  NaN   NaN  NaN NaN  NaN  \n",
       "2 NaN NaN  NaN  NaN  NaN   NaN  NaN NaN  NaN  \n",
       "3 NaN NaN  NaN  NaN  NaN   NaN  NaN NaN  NaN  \n",
       "4 NaN NaN  NaN  NaN  NaN   NaN  NaN NaN  NaN  \n",
       "\n",
       "[5 rows x 58 columns]"
      ]
     },
     "execution_count": 78,
     "metadata": {},
     "output_type": "execute_result"
    }
   ],
   "source": [
    "# Combine CSVs from the new folders\n",
    "combined_df_list = []\n",
    "\n",
    "# New CSV data directory\n",
    "csv_data_dir = './csv_data'\n",
    "\n",
    "for tour in tours:\n",
    "    tour_path = os.path.join(csv_data_dir, tour)\n",
    "    \n",
    "    for file_name in os.listdir(tour_path):\n",
    "        if file_name.endswith('.csv'):\n",
    "            file_path = os.path.join(tour_path, file_name)\n",
    "            print(f'Loading {file_path}...')\n",
    "            \n",
    "            df = pd.read_csv(file_path)\n",
    "            \n",
    "            # Add Tour and Year columns\n",
    "            df['Tour'] = 'ATP' if tour == 'atp_mens_tour' else 'WTA'\n",
    "            # Extract 4-digit year from filename\n",
    "            year_match = re.findall(r'\\d{4}', file_name)\n",
    "            df['Year'] = year_match[0] if year_match else None            \n",
    "            combined_df_list.append(df)\n",
    "\n",
    "# Concatenate all data\n",
    "full_df = pd.concat(combined_df_list, ignore_index=True)\n",
    "print(f'\\nTotal records loaded: {full_df.shape[0]}')\n",
    "full_df.head()\n"
   ]
  },
  {
   "cell_type": "code",
   "execution_count": 79,
   "metadata": {},
   "outputs": [
    {
     "name": "stdout",
     "output_type": "stream",
     "text": [
      "\n",
      "Missing Values (%):\n",
      "ATP        38.563982\n",
      "Date        0.001941\n",
      "Series     38.563982\n",
      "Best of     0.014560\n",
      "WRank       0.070859\n",
      "LRank       0.214519\n",
      "WPts       15.786102\n",
      "LPts       15.926850\n",
      "W1          0.592112\n",
      "L1          0.589200\n",
      "W2          1.534639\n",
      "L2          1.534639\n",
      "W3         58.949146\n",
      "L3         58.950117\n",
      "W4         94.250687\n",
      "L4         94.250687\n",
      "W5         97.824715\n",
      "L5         97.824715\n",
      "Wsets       0.551344\n",
      "Lsets       0.552315\n",
      "B365W       8.749672\n",
      "B365L       8.725405\n",
      "EXW        33.756224\n",
      "EXL        33.752342\n",
      "LBW        47.252502\n",
      "LBL        47.241824\n",
      "PSW        17.276089\n",
      "PSL        17.275119\n",
      "UBW        82.923870\n",
      "UBL        82.923870\n",
      "MaxW       36.692519\n",
      "MaxL       36.693490\n",
      "AvgW       36.692519\n",
      "AvgL       36.692519\n",
      "SJW        71.160249\n",
      "SJL        71.153454\n",
      "CBW        80.650547\n",
      "CBL        80.650547\n",
      "GBW        95.093233\n",
      "GBL        95.093233\n",
      "IWW        87.033712\n",
      "IWL        87.033712\n",
      "SBW        94.735054\n",
      "SBL        94.735054\n",
      "B&WW       98.935169\n",
      "B&WL       98.935169\n",
      "WTA        61.436018\n",
      "Tier       61.436018\n",
      "dtype: float64\n"
     ]
    }
   ],
   "source": [
    "# Check percentage of missing values\n",
    "missing_percent = full_df.isnull().mean() * 100\n",
    "print('\\nMissing Values (%):')\n",
    "print(missing_percent[missing_percent > 0])\n"
   ]
  },
  {
   "cell_type": "code",
   "execution_count": 80,
   "metadata": {},
   "outputs": [
    {
     "name": "stdout",
     "output_type": "stream",
     "text": [
      "\n",
      "Dropping columns: ['W3', 'L3', 'W4', 'L4', 'W5', 'L5', 'UBW', 'UBL', 'SJW', 'SJL', 'CBW', 'CBL', 'GBW', 'GBL', 'IWW', 'IWL', 'SBW', 'SBL', 'B&WW', 'B&WL', 'WTA', 'Tier']\n",
      "\n",
      "Missing values in numeric columns handled.\n"
     ]
    }
   ],
   "source": [
    "# Drop columns with more than 50% missing values\n",
    "nan_threshold = 0.5\n",
    "cols_to_drop = full_df.columns[full_df.isnull().mean() > nan_threshold]\n",
    "if len(cols_to_drop) > 0:\n",
    "    print(f'\\nDropping columns: {cols_to_drop.tolist()}')\n",
    "    full_df.drop(columns=cols_to_drop, inplace=True)\n",
    "else:\n",
    "    print('\\nNo columns exceeded missing value threshold.')\n",
    "\n",
    "\n",
    "# Forward fill only numeric columns\n",
    "numeric_cols = full_df.select_dtypes(include='number').columns\n",
    "full_df[numeric_cols] = full_df[numeric_cols].fillna(method='ffill')\n",
    "\n",
    "print('\\nMissing values in numeric columns handled.')\n"
   ]
  },
  {
   "cell_type": "code",
   "execution_count": 81,
   "metadata": {},
   "outputs": [
    {
     "name": "stdout",
     "output_type": "stream",
     "text": [
      "\n",
      "Number of duplicates found: 0\n"
     ]
    }
   ],
   "source": [
    "# Clean column names\n",
    "full_df.columns = [col.strip().lower().replace(' ', '_') for col in full_df.columns]\n",
    "\n",
    "# Remove duplicates\n",
    "duplicates = full_df.duplicated().sum()\n",
    "print(f'\\nNumber of duplicates found: {duplicates}')\n",
    "if duplicates > 0:\n",
    "    full_df.drop_duplicates(inplace=True)\n",
    "    print('Duplicates removed.')\n",
    "\n"
   ]
  },
  {
   "cell_type": "code",
   "execution_count": 82,
   "metadata": {},
   "outputs": [
    {
     "name": "stdout",
     "output_type": "stream",
     "text": [
      "\n",
      "Dataset Overview:\n",
      "                 atp        best_of           wpts           lpts  \\\n",
      "count  103021.000000  103021.000000  103021.000000  103021.000000   \n",
      "mean       45.830675       3.233350    3047.274029    2381.541814   \n",
      "std        21.947634       0.642069    3482.996821    3155.288897   \n",
      "min         1.000000       3.000000       1.000000       1.000000   \n",
      "25%        27.000000       3.000000     757.000000     578.000000   \n",
      "50%        51.000000       3.000000    1366.000000     945.000000   \n",
      "75%        67.000000       3.000000    4030.000000    2175.000000   \n",
      "max        69.000000       5.000000   16950.000000   16950.000000   \n",
      "\n",
      "                  w1             l1          wsets          lsets  \\\n",
      "count  103021.000000  103021.000000  103021.000000  103021.000000   \n",
      "mean        5.763951       3.893080       2.075839       0.379311   \n",
      "std         1.253455       1.891754       0.397191       0.528738   \n",
      "min         0.000000       0.000000       0.000000       0.000000   \n",
      "25%         6.000000       2.000000       2.000000       0.000000   \n",
      "50%         6.000000       4.000000       2.000000       0.000000   \n",
      "75%         6.000000       6.000000       2.000000       1.000000   \n",
      "max         7.000000       7.000000       3.000000       3.000000   \n",
      "\n",
      "               b365w            exl            lbl            psw  \\\n",
      "count  103021.000000  103021.000000  103021.000000  103021.000000   \n",
      "mean        1.936309       2.751672       2.799901       2.099010   \n",
      "std         1.205315       2.031444       2.118521       1.370718   \n",
      "min         0.971000       1.000000       1.000000       0.972000   \n",
      "25%         1.280000       1.500000       1.615000       1.308000   \n",
      "50%         1.530000       2.050000       2.250000       1.662000   \n",
      "75%         2.200000       3.200000       3.250000       2.440000   \n",
      "max        34.000000      40.000000      51.000000      52.000000   \n",
      "\n",
      "                 psl           maxw           maxl           avgw  \\\n",
      "count  103021.000000  100314.000000  100314.000000  100314.000000   \n",
      "mean        3.523173       2.117120       4.331490       1.960502   \n",
      "std         4.213363       1.430473     189.178287       1.197477   \n",
      "min         1.010000       1.010000       1.010000       1.010000   \n",
      "25%         1.620000       1.340000       1.700000       1.280000   \n",
      "50%         2.370000       1.650000       2.580000       1.570000   \n",
      "75%         3.880000       2.460000       4.050000       2.280000   \n",
      "max       121.000000     127.000000   42586.000000     161.000000   \n",
      "\n",
      "                avgl  \n",
      "count  100314.000000  \n",
      "mean        2.954048  \n",
      "std         2.319190  \n",
      "min         1.010000  \n",
      "25%         1.610000  \n",
      "50%         2.390000  \n",
      "75%         3.610000  \n",
      "max        41.800000  \n",
      "\n",
      "Tour Distribution:\n",
      "ATP    63292\n",
      "WTA    39729\n",
      "Name: tour, dtype: int64\n",
      "\n",
      "Year Distribution:\n",
      "2007    5297\n",
      "2009    5164\n",
      "2015    5151\n",
      "2016    5148\n",
      "2011    5143\n",
      "2017    5133\n",
      "2010    5127\n",
      "2008    5111\n",
      "2018    5106\n",
      "2019    5082\n",
      "2014    5076\n",
      "2013    5073\n",
      "2012    5014\n",
      "2022    5001\n",
      "2021    4936\n",
      "2023    3801\n",
      "2001    2963\n",
      "2000    2963\n",
      "2006    2909\n",
      "2005    2909\n",
      "2004    2877\n",
      "2003    2861\n",
      "2002    2854\n",
      "2020    2322\n",
      "Name: year, dtype: int64\n"
     ]
    }
   ],
   "source": [
    "# Quick look at dataset\n",
    "print('\\nDataset Overview:')\n",
    "print(full_df.describe())\n",
    "print('\\nTour Distribution:')\n",
    "print(full_df['tour'].value_counts())\n",
    "print('\\nYear Distribution:')\n",
    "print(full_df['year'].value_counts())"
   ]
  },
  {
   "cell_type": "code",
   "execution_count": 83,
   "metadata": {},
   "outputs": [
    {
     "name": "stdout",
     "output_type": "stream",
     "text": [
      "\n",
      "✅ Preprocessed data saved as preprocessed_tennis_data.csv\n"
     ]
    }
   ],
   "source": [
    "# Save cleaned dataset\n",
    "output_path = 'preprocessed_tennis_data.csv'\n",
    "full_df.to_csv(output_path, index=False)\n",
    "print(f'\\n✅ Preprocessed data saved as {output_path}')\n"
   ]
  },
  {
   "cell_type": "markdown",
   "metadata": {},
   "source": [
    "# Data Exploration"
   ]
  },
  {
   "cell_type": "markdown",
   "metadata": {},
   "source": [
    "## Tour Distribution"
   ]
  },
  {
   "cell_type": "code",
   "execution_count": 84,
   "metadata": {},
   "outputs": [
    {
     "data": {
      "image/png": "[encoded data removed]",
      "text/plain": [
       "<Figure size 600x400 with 1 Axes>"
      ]
     },
     "metadata": {},
     "output_type": "display_data"
    }
   ],
   "source": [
    "import matplotlib.pyplot as plt\n",
    "\n",
    "# Bar plot for Tour distribution\n",
    "full_df['tour'].value_counts().plot(kind='bar', figsize=(6,4))\n",
    "plt.title('Distribution of Matches by Tour')\n",
    "plt.xlabel('Tour')\n",
    "plt.ylabel('Number of Matches')\n",
    "plt.show()\n"
   ]
  },
  {
   "cell_type": "markdown",
   "metadata": {},
   "source": [
    "## Year Distribution"
   ]
  },
  {
   "cell_type": "code",
   "execution_count": 85,
   "metadata": {},
   "outputs": [
    {
     "data": {
      "image/png": "[encoded data removed]",
      "text/plain": [
       "<Figure size 1000x400 with 1 Axes>"
      ]
     },
     "metadata": {},
     "output_type": "display_data"
    }
   ],
   "source": [
    "# Bar plot for Year distribution\n",
    "full_df['year'].value_counts().sort_index().plot(kind='bar', figsize=(10,4))\n",
    "plt.title('Distribution of Matches by Year')\n",
    "plt.xlabel('Year')\n",
    "plt.ylabel('Number of Matches')\n",
    "plt.show()\n"
   ]
  },
  {
   "cell_type": "markdown",
   "metadata": {},
   "source": [
    "## Match surface distribution"
   ]
  },
  {
   "cell_type": "code",
   "execution_count": 86,
   "metadata": {},
   "outputs": [
    {
     "data": {
      "image/png": "[encoded data removed]",
      "text/plain": [
       "<Figure size 600x400 with 1 Axes>"
      ]
     },
     "metadata": {},
     "output_type": "display_data"
    }
   ],
   "source": [
    "if 'surface' in full_df.columns:\n",
    "    full_df['surface'].value_counts().plot(kind='bar', figsize=(6,4))\n",
    "    plt.title('Distribution of Matches by Surface')\n",
    "    plt.xlabel('Surface')\n",
    "    plt.ylabel('Number of Matches')\n",
    "    plt.show()\n"
   ]
  },
  {
   "cell_type": "code",
   "execution_count": 88,
   "metadata": {},
   "outputs": [
    {
     "data": {
      "image/png": "[encoded data removed]",
      "text/plain": [
       "<Figure size 600x600 with 1 Axes>"
      ]
     },
     "metadata": {},
     "output_type": "display_data"
    }
   ],
   "source": [
    "full_df['tour'].value_counts().plot(kind='pie', autopct='%1.1f%%', startangle=90, figsize=(6,6))\n",
    "plt.title('ATP vs WTA Match Distribution')\n",
    "plt.ylabel('')\n",
    "plt.show()\n"
   ]
  }
 ],
 "metadata": {
  "kernelspec": {
   "display_name": "base",
   "language": "python",
   "name": "python3"
  },
  "language_info": {
   "codemirror_mode": {
    "name": "ipython",
    "version": 3
   },
   "file_extension": ".py",
   "mimetype": "text/x-python",
   "name": "python",
   "nbconvert_exporter": "python",
   "pygments_lexer": "ipython3",
   "version": "3.10.15"
  }
 },
 "nbformat": 4,
 "nbformat_minor": 2
}
