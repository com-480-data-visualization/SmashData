{
 "cells": [
  {
   "cell_type": "code",
   "execution_count": 11,
   "metadata": {},
   "outputs": [
    {
     "ename": "FileNotFoundError",
     "evalue": "[Errno 2] No such file or directory: '/Users/karine/SmashData-1/Milestone 1/match_tennis_68_ajd.csv'",
     "output_type": "error",
     "traceback": [
      "\u001b[0;31m---------------------------------------------------------------------------\u001b[0m",
      "\u001b[0;31mFileNotFoundError\u001b[0m                         Traceback (most recent call last)",
      "Cell \u001b[0;32mIn[11], line 15\u001b[0m\n\u001b[1;32m     12\u001b[0m \u001b[38;5;28;01mfrom\u001b[39;00m\u001b[38;5;250m \u001b[39m\u001b[38;5;21;01mbs4\u001b[39;00m\u001b[38;5;250m \u001b[39m\u001b[38;5;28;01mimport\u001b[39;00m BeautifulSoup\n\u001b[1;32m     14\u001b[0m \u001b[38;5;66;03m# === 1. Load your data ===\u001b[39;00m\n\u001b[0;32m---> 15\u001b[0m df \u001b[38;5;241m=\u001b[39m \u001b[43mpd\u001b[49m\u001b[38;5;241;43m.\u001b[39;49m\u001b[43mread_csv\u001b[49m\u001b[43m(\u001b[49m\u001b[38;5;124;43m\"\u001b[39;49m\u001b[38;5;124;43m/Users/karine/SmashData-1/Milestone 1/match_tennis_68_ajd.csv\u001b[39;49m\u001b[38;5;124;43m\"\u001b[39;49m\u001b[43m)\u001b[49m\n\u001b[1;32m     17\u001b[0m \u001b[38;5;66;03m# === 2. Map last names to countries ===\u001b[39;00m\n\u001b[1;32m     18\u001b[0m name_to_country \u001b[38;5;241m=\u001b[39m {\n\u001b[1;32m     19\u001b[0m     \u001b[38;5;124m\"\u001b[39m\u001b[38;5;124mDjokovic\u001b[39m\u001b[38;5;124m\"\u001b[39m: \u001b[38;5;124m\"\u001b[39m\u001b[38;5;124mSerbia\u001b[39m\u001b[38;5;124m\"\u001b[39m, \u001b[38;5;124m\"\u001b[39m\u001b[38;5;124mNadal\u001b[39m\u001b[38;5;124m\"\u001b[39m: \u001b[38;5;124m\"\u001b[39m\u001b[38;5;124mSpain\u001b[39m\u001b[38;5;124m\"\u001b[39m, \u001b[38;5;124m\"\u001b[39m\u001b[38;5;124mFederer\u001b[39m\u001b[38;5;124m\"\u001b[39m: \u001b[38;5;124m\"\u001b[39m\u001b[38;5;124mSwitzerland\u001b[39m\u001b[38;5;124m\"\u001b[39m,\n\u001b[1;32m     20\u001b[0m     \u001b[38;5;124m\"\u001b[39m\u001b[38;5;124mSampras\u001b[39m\u001b[38;5;124m\"\u001b[39m: \u001b[38;5;124m\"\u001b[39m\u001b[38;5;124mUnited States\u001b[39m\u001b[38;5;124m\"\u001b[39m, \u001b[38;5;124m\"\u001b[39m\u001b[38;5;124mMurray\u001b[39m\u001b[38;5;124m\"\u001b[39m: \u001b[38;5;124m\"\u001b[39m\u001b[38;5;124mUnited Kingdom\u001b[39m\u001b[38;5;124m\"\u001b[39m, \u001b[38;5;124m\"\u001b[39m\u001b[38;5;124mAgassi\u001b[39m\u001b[38;5;124m\"\u001b[39m: \u001b[38;5;124m\"\u001b[39m\u001b[38;5;124mUnited States\u001b[39m\u001b[38;5;124m\"\u001b[39m,\n\u001b[1;32m     21\u001b[0m     \u001b[38;5;66;03m# Add more if needed\u001b[39;00m\n\u001b[1;32m     22\u001b[0m }\n",
      "File \u001b[0;32m~/anaconda3/envs/ada/lib/python3.9/site-packages/pandas/io/parsers/readers.py:948\u001b[0m, in \u001b[0;36mread_csv\u001b[0;34m(filepath_or_buffer, sep, delimiter, header, names, index_col, usecols, dtype, engine, converters, true_values, false_values, skipinitialspace, skiprows, skipfooter, nrows, na_values, keep_default_na, na_filter, verbose, skip_blank_lines, parse_dates, infer_datetime_format, keep_date_col, date_parser, date_format, dayfirst, cache_dates, iterator, chunksize, compression, thousands, decimal, lineterminator, quotechar, quoting, doublequote, escapechar, comment, encoding, encoding_errors, dialect, on_bad_lines, delim_whitespace, low_memory, memory_map, float_precision, storage_options, dtype_backend)\u001b[0m\n\u001b[1;32m    935\u001b[0m kwds_defaults \u001b[38;5;241m=\u001b[39m _refine_defaults_read(\n\u001b[1;32m    936\u001b[0m     dialect,\n\u001b[1;32m    937\u001b[0m     delimiter,\n\u001b[0;32m   (...)\u001b[0m\n\u001b[1;32m    944\u001b[0m     dtype_backend\u001b[38;5;241m=\u001b[39mdtype_backend,\n\u001b[1;32m    945\u001b[0m )\n\u001b[1;32m    946\u001b[0m kwds\u001b[38;5;241m.\u001b[39mupdate(kwds_defaults)\n\u001b[0;32m--> 948\u001b[0m \u001b[38;5;28;01mreturn\u001b[39;00m \u001b[43m_read\u001b[49m\u001b[43m(\u001b[49m\u001b[43mfilepath_or_buffer\u001b[49m\u001b[43m,\u001b[49m\u001b[43m \u001b[49m\u001b[43mkwds\u001b[49m\u001b[43m)\u001b[49m\n",
      "File \u001b[0;32m~/anaconda3/envs/ada/lib/python3.9/site-packages/pandas/io/parsers/readers.py:611\u001b[0m, in \u001b[0;36m_read\u001b[0;34m(filepath_or_buffer, kwds)\u001b[0m\n\u001b[1;32m    608\u001b[0m _validate_names(kwds\u001b[38;5;241m.\u001b[39mget(\u001b[38;5;124m\"\u001b[39m\u001b[38;5;124mnames\u001b[39m\u001b[38;5;124m\"\u001b[39m, \u001b[38;5;28;01mNone\u001b[39;00m))\n\u001b[1;32m    610\u001b[0m \u001b[38;5;66;03m# Create the parser.\u001b[39;00m\n\u001b[0;32m--> 611\u001b[0m parser \u001b[38;5;241m=\u001b[39m \u001b[43mTextFileReader\u001b[49m\u001b[43m(\u001b[49m\u001b[43mfilepath_or_buffer\u001b[49m\u001b[43m,\u001b[49m\u001b[43m \u001b[49m\u001b[38;5;241;43m*\u001b[39;49m\u001b[38;5;241;43m*\u001b[39;49m\u001b[43mkwds\u001b[49m\u001b[43m)\u001b[49m\n\u001b[1;32m    613\u001b[0m \u001b[38;5;28;01mif\u001b[39;00m chunksize \u001b[38;5;129;01mor\u001b[39;00m iterator:\n\u001b[1;32m    614\u001b[0m     \u001b[38;5;28;01mreturn\u001b[39;00m parser\n",
      "File \u001b[0;32m~/anaconda3/envs/ada/lib/python3.9/site-packages/pandas/io/parsers/readers.py:1448\u001b[0m, in \u001b[0;36mTextFileReader.__init__\u001b[0;34m(self, f, engine, **kwds)\u001b[0m\n\u001b[1;32m   1445\u001b[0m     \u001b[38;5;28mself\u001b[39m\u001b[38;5;241m.\u001b[39moptions[\u001b[38;5;124m\"\u001b[39m\u001b[38;5;124mhas_index_names\u001b[39m\u001b[38;5;124m\"\u001b[39m] \u001b[38;5;241m=\u001b[39m kwds[\u001b[38;5;124m\"\u001b[39m\u001b[38;5;124mhas_index_names\u001b[39m\u001b[38;5;124m\"\u001b[39m]\n\u001b[1;32m   1447\u001b[0m \u001b[38;5;28mself\u001b[39m\u001b[38;5;241m.\u001b[39mhandles: IOHandles \u001b[38;5;241m|\u001b[39m \u001b[38;5;28;01mNone\u001b[39;00m \u001b[38;5;241m=\u001b[39m \u001b[38;5;28;01mNone\u001b[39;00m\n\u001b[0;32m-> 1448\u001b[0m \u001b[38;5;28mself\u001b[39m\u001b[38;5;241m.\u001b[39m_engine \u001b[38;5;241m=\u001b[39m \u001b[38;5;28;43mself\u001b[39;49m\u001b[38;5;241;43m.\u001b[39;49m\u001b[43m_make_engine\u001b[49m\u001b[43m(\u001b[49m\u001b[43mf\u001b[49m\u001b[43m,\u001b[49m\u001b[43m \u001b[49m\u001b[38;5;28;43mself\u001b[39;49m\u001b[38;5;241;43m.\u001b[39;49m\u001b[43mengine\u001b[49m\u001b[43m)\u001b[49m\n",
      "File \u001b[0;32m~/anaconda3/envs/ada/lib/python3.9/site-packages/pandas/io/parsers/readers.py:1705\u001b[0m, in \u001b[0;36mTextFileReader._make_engine\u001b[0;34m(self, f, engine)\u001b[0m\n\u001b[1;32m   1703\u001b[0m     \u001b[38;5;28;01mif\u001b[39;00m \u001b[38;5;124m\"\u001b[39m\u001b[38;5;124mb\u001b[39m\u001b[38;5;124m\"\u001b[39m \u001b[38;5;129;01mnot\u001b[39;00m \u001b[38;5;129;01min\u001b[39;00m mode:\n\u001b[1;32m   1704\u001b[0m         mode \u001b[38;5;241m+\u001b[39m\u001b[38;5;241m=\u001b[39m \u001b[38;5;124m\"\u001b[39m\u001b[38;5;124mb\u001b[39m\u001b[38;5;124m\"\u001b[39m\n\u001b[0;32m-> 1705\u001b[0m \u001b[38;5;28mself\u001b[39m\u001b[38;5;241m.\u001b[39mhandles \u001b[38;5;241m=\u001b[39m \u001b[43mget_handle\u001b[49m\u001b[43m(\u001b[49m\n\u001b[1;32m   1706\u001b[0m \u001b[43m    \u001b[49m\u001b[43mf\u001b[49m\u001b[43m,\u001b[49m\n\u001b[1;32m   1707\u001b[0m \u001b[43m    \u001b[49m\u001b[43mmode\u001b[49m\u001b[43m,\u001b[49m\n\u001b[1;32m   1708\u001b[0m \u001b[43m    \u001b[49m\u001b[43mencoding\u001b[49m\u001b[38;5;241;43m=\u001b[39;49m\u001b[38;5;28;43mself\u001b[39;49m\u001b[38;5;241;43m.\u001b[39;49m\u001b[43moptions\u001b[49m\u001b[38;5;241;43m.\u001b[39;49m\u001b[43mget\u001b[49m\u001b[43m(\u001b[49m\u001b[38;5;124;43m\"\u001b[39;49m\u001b[38;5;124;43mencoding\u001b[39;49m\u001b[38;5;124;43m\"\u001b[39;49m\u001b[43m,\u001b[49m\u001b[43m \u001b[49m\u001b[38;5;28;43;01mNone\u001b[39;49;00m\u001b[43m)\u001b[49m\u001b[43m,\u001b[49m\n\u001b[1;32m   1709\u001b[0m \u001b[43m    \u001b[49m\u001b[43mcompression\u001b[49m\u001b[38;5;241;43m=\u001b[39;49m\u001b[38;5;28;43mself\u001b[39;49m\u001b[38;5;241;43m.\u001b[39;49m\u001b[43moptions\u001b[49m\u001b[38;5;241;43m.\u001b[39;49m\u001b[43mget\u001b[49m\u001b[43m(\u001b[49m\u001b[38;5;124;43m\"\u001b[39;49m\u001b[38;5;124;43mcompression\u001b[39;49m\u001b[38;5;124;43m\"\u001b[39;49m\u001b[43m,\u001b[49m\u001b[43m \u001b[49m\u001b[38;5;28;43;01mNone\u001b[39;49;00m\u001b[43m)\u001b[49m\u001b[43m,\u001b[49m\n\u001b[1;32m   1710\u001b[0m \u001b[43m    \u001b[49m\u001b[43mmemory_map\u001b[49m\u001b[38;5;241;43m=\u001b[39;49m\u001b[38;5;28;43mself\u001b[39;49m\u001b[38;5;241;43m.\u001b[39;49m\u001b[43moptions\u001b[49m\u001b[38;5;241;43m.\u001b[39;49m\u001b[43mget\u001b[49m\u001b[43m(\u001b[49m\u001b[38;5;124;43m\"\u001b[39;49m\u001b[38;5;124;43mmemory_map\u001b[39;49m\u001b[38;5;124;43m\"\u001b[39;49m\u001b[43m,\u001b[49m\u001b[43m \u001b[49m\u001b[38;5;28;43;01mFalse\u001b[39;49;00m\u001b[43m)\u001b[49m\u001b[43m,\u001b[49m\n\u001b[1;32m   1711\u001b[0m \u001b[43m    \u001b[49m\u001b[43mis_text\u001b[49m\u001b[38;5;241;43m=\u001b[39;49m\u001b[43mis_text\u001b[49m\u001b[43m,\u001b[49m\n\u001b[1;32m   1712\u001b[0m \u001b[43m    \u001b[49m\u001b[43merrors\u001b[49m\u001b[38;5;241;43m=\u001b[39;49m\u001b[38;5;28;43mself\u001b[39;49m\u001b[38;5;241;43m.\u001b[39;49m\u001b[43moptions\u001b[49m\u001b[38;5;241;43m.\u001b[39;49m\u001b[43mget\u001b[49m\u001b[43m(\u001b[49m\u001b[38;5;124;43m\"\u001b[39;49m\u001b[38;5;124;43mencoding_errors\u001b[39;49m\u001b[38;5;124;43m\"\u001b[39;49m\u001b[43m,\u001b[49m\u001b[43m \u001b[49m\u001b[38;5;124;43m\"\u001b[39;49m\u001b[38;5;124;43mstrict\u001b[39;49m\u001b[38;5;124;43m\"\u001b[39;49m\u001b[43m)\u001b[49m\u001b[43m,\u001b[49m\n\u001b[1;32m   1713\u001b[0m \u001b[43m    \u001b[49m\u001b[43mstorage_options\u001b[49m\u001b[38;5;241;43m=\u001b[39;49m\u001b[38;5;28;43mself\u001b[39;49m\u001b[38;5;241;43m.\u001b[39;49m\u001b[43moptions\u001b[49m\u001b[38;5;241;43m.\u001b[39;49m\u001b[43mget\u001b[49m\u001b[43m(\u001b[49m\u001b[38;5;124;43m\"\u001b[39;49m\u001b[38;5;124;43mstorage_options\u001b[39;49m\u001b[38;5;124;43m\"\u001b[39;49m\u001b[43m,\u001b[49m\u001b[43m \u001b[49m\u001b[38;5;28;43;01mNone\u001b[39;49;00m\u001b[43m)\u001b[49m\u001b[43m,\u001b[49m\n\u001b[1;32m   1714\u001b[0m \u001b[43m\u001b[49m\u001b[43m)\u001b[49m\n\u001b[1;32m   1715\u001b[0m \u001b[38;5;28;01massert\u001b[39;00m \u001b[38;5;28mself\u001b[39m\u001b[38;5;241m.\u001b[39mhandles \u001b[38;5;129;01mis\u001b[39;00m \u001b[38;5;129;01mnot\u001b[39;00m \u001b[38;5;28;01mNone\u001b[39;00m\n\u001b[1;32m   1716\u001b[0m f \u001b[38;5;241m=\u001b[39m \u001b[38;5;28mself\u001b[39m\u001b[38;5;241m.\u001b[39mhandles\u001b[38;5;241m.\u001b[39mhandle\n",
      "File \u001b[0;32m~/anaconda3/envs/ada/lib/python3.9/site-packages/pandas/io/common.py:863\u001b[0m, in \u001b[0;36mget_handle\u001b[0;34m(path_or_buf, mode, encoding, compression, memory_map, is_text, errors, storage_options)\u001b[0m\n\u001b[1;32m    858\u001b[0m \u001b[38;5;28;01melif\u001b[39;00m \u001b[38;5;28misinstance\u001b[39m(handle, \u001b[38;5;28mstr\u001b[39m):\n\u001b[1;32m    859\u001b[0m     \u001b[38;5;66;03m# Check whether the filename is to be opened in binary mode.\u001b[39;00m\n\u001b[1;32m    860\u001b[0m     \u001b[38;5;66;03m# Binary mode does not support 'encoding' and 'newline'.\u001b[39;00m\n\u001b[1;32m    861\u001b[0m     \u001b[38;5;28;01mif\u001b[39;00m ioargs\u001b[38;5;241m.\u001b[39mencoding \u001b[38;5;129;01mand\u001b[39;00m \u001b[38;5;124m\"\u001b[39m\u001b[38;5;124mb\u001b[39m\u001b[38;5;124m\"\u001b[39m \u001b[38;5;129;01mnot\u001b[39;00m \u001b[38;5;129;01min\u001b[39;00m ioargs\u001b[38;5;241m.\u001b[39mmode:\n\u001b[1;32m    862\u001b[0m         \u001b[38;5;66;03m# Encoding\u001b[39;00m\n\u001b[0;32m--> 863\u001b[0m         handle \u001b[38;5;241m=\u001b[39m \u001b[38;5;28;43mopen\u001b[39;49m\u001b[43m(\u001b[49m\n\u001b[1;32m    864\u001b[0m \u001b[43m            \u001b[49m\u001b[43mhandle\u001b[49m\u001b[43m,\u001b[49m\n\u001b[1;32m    865\u001b[0m \u001b[43m            \u001b[49m\u001b[43mioargs\u001b[49m\u001b[38;5;241;43m.\u001b[39;49m\u001b[43mmode\u001b[49m\u001b[43m,\u001b[49m\n\u001b[1;32m    866\u001b[0m \u001b[43m            \u001b[49m\u001b[43mencoding\u001b[49m\u001b[38;5;241;43m=\u001b[39;49m\u001b[43mioargs\u001b[49m\u001b[38;5;241;43m.\u001b[39;49m\u001b[43mencoding\u001b[49m\u001b[43m,\u001b[49m\n\u001b[1;32m    867\u001b[0m \u001b[43m            \u001b[49m\u001b[43merrors\u001b[49m\u001b[38;5;241;43m=\u001b[39;49m\u001b[43merrors\u001b[49m\u001b[43m,\u001b[49m\n\u001b[1;32m    868\u001b[0m \u001b[43m            \u001b[49m\u001b[43mnewline\u001b[49m\u001b[38;5;241;43m=\u001b[39;49m\u001b[38;5;124;43m\"\u001b[39;49m\u001b[38;5;124;43m\"\u001b[39;49m\u001b[43m,\u001b[49m\n\u001b[1;32m    869\u001b[0m \u001b[43m        \u001b[49m\u001b[43m)\u001b[49m\n\u001b[1;32m    870\u001b[0m     \u001b[38;5;28;01melse\u001b[39;00m:\n\u001b[1;32m    871\u001b[0m         \u001b[38;5;66;03m# Binary mode\u001b[39;00m\n\u001b[1;32m    872\u001b[0m         handle \u001b[38;5;241m=\u001b[39m \u001b[38;5;28mopen\u001b[39m(handle, ioargs\u001b[38;5;241m.\u001b[39mmode)\n",
      "\u001b[0;31mFileNotFoundError\u001b[0m: [Errno 2] No such file or directory: '/Users/karine/SmashData-1/Milestone 1/match_tennis_68_ajd.csv'"
     ]
    }
   ],
   "source": [
    "# --------------------------------------\n",
    "# COMPLETE Grand Slam Animated Folium Map\n",
    "# --------------------------------------\n",
    "\n",
    "import pandas as pd\n",
    "import folium\n",
    "from folium.plugins import MarkerCluster, MiniMap\n",
    "import pycountry\n",
    "import time\n",
    "import os\n",
    "from geopy.geocoders import Nominatim\n",
    "from bs4 import BeautifulSoup\n",
    "\n",
    "# === 1. Load your data ===\n",
    "df = pd.read_csv(\"assets/data/match_tennis_68_ajd.csv\")\n",
    "\n",
    "# === 2. Map last names to countries ===\n",
    "name_to_country = {\n",
    "    \"Djokovic\": \"Serbia\", \"Nadal\": \"Spain\", \"Federer\": \"Switzerland\",\n",
    "    \"Sampras\": \"United States\", \"Murray\": \"United Kingdom\", \"Agassi\": \"United States\",\n",
    "    # Add more if needed\n",
    "}\n",
    "\n",
    "def extract_last_name(name):\n",
    "    return name.split()[0] if isinstance(name, str) else \"\"\n",
    "\n",
    "def country_to_flag(country_name):\n",
    "    try:\n",
    "        code = pycountry.countries.search_fuzzy(country_name)[0].alpha_2\n",
    "        return ''.join(chr(0x1F1E6 + ord(c) - ord('A')) for c in code)\n",
    "    except:\n",
    "        return ''\n",
    "\n",
    "# === 3. Top player per location ===\n",
    "location_counts = df[\"Location\"].value_counts().reset_index()\n",
    "location_counts.columns = [\"Location\", \"Occurrences\"]\n",
    "\n",
    "top_players = (\n",
    "    df.groupby(\"Location\")[\"Winner\"]\n",
    "    .agg(lambda x: x.value_counts().index[0])\n",
    "    .reset_index()\n",
    ")\n",
    "top_players.columns = [\"Location\", \"TopPlayer\"]\n",
    "top_players[\"LastName\"] = top_players[\"TopPlayer\"].apply(extract_last_name)\n",
    "top_players[\"Country\"] = top_players[\"LastName\"].map(name_to_country).fillna(\"Unknown\")\n",
    "top_players[\"Flag\"] = top_players[\"Country\"].apply(lambda c: country_to_flag(c) if c != \"Unknown\" else \"\")\n",
    "\n",
    "location_counts = location_counts.merge(top_players, on=\"Location\", how=\"left\")\n",
    "\n",
    "# === 4. Most frequent surface per location ===\n",
    "surface_info = (\n",
    "    df.groupby(\"Location\")[\"Surface\"]\n",
    "    .agg(lambda x: x.value_counts().index[0])\n",
    "    .reset_index()\n",
    ")\n",
    "location_counts = location_counts.merge(surface_info, on=\"Location\", how=\"left\")\n",
    "\n",
    "# === 5. Surface colors ===\n",
    "surface_colors = {\n",
    "    \"Hard\": \"#4A90E2\",\n",
    "    \"Clay\": \"#CC6600\",\n",
    "    \"Grass\": \"#2E8B57\",\n",
    "    \"Carpet\": \"#7F3FBF\"\n",
    "}\n",
    "\n",
    "# === 6. Geocode with cache ===\n",
    "cache_file = \"geocoded_locations_mens.csv\"\n",
    "if os.path.exists(cache_file):\n",
    "    cache = pd.read_csv(cache_file)\n",
    "else:\n",
    "    cache = pd.DataFrame(columns=[\"Location\", \"Latitude\", \"Longitude\"])\n",
    "\n",
    "geolocator = Nominatim(user_agent=\"tennis_mapper\")\n",
    "\n",
    "def geocode_location(loc):\n",
    "    if loc in cache[\"Location\"].values:\n",
    "        return cache.loc[cache[\"Location\"] == loc, [\"Latitude\", \"Longitude\"]].values[0]\n",
    "    try:\n",
    "        g = geolocator.geocode(loc)\n",
    "        time.sleep(1)\n",
    "        if g:\n",
    "            lat, lon = g.latitude, g.longitude\n",
    "            cache.loc[len(cache)] = [loc, lat, lon]\n",
    "            cache.to_csv(cache_file, index=False)\n",
    "            return [lat, lon]\n",
    "    except:\n",
    "        pass\n",
    "    return [None, None]\n",
    "\n",
    "location_counts[[\"Latitude\", \"Longitude\"]] = location_counts[\"Location\"].apply(lambda x: pd.Series(geocode_location(x)))\n",
    "location_counts.dropna(subset=[\"Latitude\", \"Longitude\"], inplace=True)\n",
    "\n",
    "# === 7. Create Folium map ===\n",
    "m = folium.Map(location=[20, 0], zoom_start=2, control_scale=True)\n",
    "m.add_child(MiniMap(toggle_display=True, position=\"bottomright\"))\n",
    "marker_cluster = MarkerCluster(name=\"Tournaments\").add_to(m)\n",
    "\n",
    "max_occurrences = location_counts[\"Occurrences\"].max()\n",
    "\n",
    "for _, row in location_counts.iterrows():\n",
    "    popup_html = (\n",
    "        f\"<div style='width: 220px;'>\"\n",
    "        f\"<b>{row['Location']}</b><br>\"\n",
    "        f\"Surface: {row['Surface']}<br>\"\n",
    "        f\"Matches: {int(row['Occurrences'])}<br>\"\n",
    "        f\"Top Player: {row['Flag']} {row['TopPlayer']}\"\n",
    "        f\"</div>\"\n",
    "    )\n",
    "    radius = (row[\"Occurrences\"] / max_occurrences) * 20\n",
    "    color = surface_colors.get(row[\"Surface\"], \"gray\")\n",
    "    folium.CircleMarker(\n",
    "        location=[row[\"Latitude\"], row[\"Longitude\"]],\n",
    "        radius=radius,\n",
    "        color=color,\n",
    "        fill=True,\n",
    "        fill_color=color,\n",
    "        fill_opacity=0.6,\n",
    "        popup=popup_html,\n",
    "        tooltip=row[\"Location\"]\n",
    "    ).add_to(marker_cluster)\n",
    "\n",
    "# Save initial map\n",
    "m.save(\"tennis_map_mens_with_flags.html\")\n",
    "\n",
    "# === 8. Add ✈️ plane animation ===\n",
    "grand_slam_coords = [\n",
    "    [-37.8136, 144.9631],  # Melbourne\n",
    "    [48.8566, 2.3522],     # Paris\n",
    "    [51.5074, -0.1278],    # London\n",
    "    [40.7128, -74.0060]    # New York\n",
    "]\n",
    "\n",
    "with open(\"tennis_map_mens_with_flags.html\", \"r\", encoding=\"utf-8\") as f:\n",
    "    soup = BeautifulSoup(f, \"html.parser\")\n",
    "\n",
    "map_div = soup.find(\"div\", {\"id\": lambda x: x and x.startswith(\"map_\")})\n",
    "map_id = map_div[\"id\"]\n",
    "\n",
    "plane_script = f\"\"\"\n",
    "<script>\n",
    "var map = window.{map_id}_map;\n",
    "\n",
    "var slamCoords = {grand_slam_coords};\n",
    "\n",
    "var planeIcon = L.divIcon({{\n",
    "    className: 'plane-icon',\n",
    "    html: '✈️',\n",
    "    iconSize: [24, 24],\n",
    "    iconAnchor: [12, 12]\n",
    "}});\n",
    "\n",
    "var plane = L.marker(slamCoords[0], {{icon: planeIcon}}).addTo(map);\n",
    "\n",
    "var line = L.polyline(slamCoords, {{\n",
    "    color: '#000',\n",
    "    weight: 2,\n",
    "    dashArray: '5, 5'\n",
    "}}).addTo(map);\n",
    "\n",
    "let i = 0;\n",
    "let steps = 200;\n",
    "let interval = 30;\n",
    "\n",
    "function flyToNext() {{\n",
    "    if (i >= slamCoords.length - 1) return;\n",
    "\n",
    "    let [lat1, lon1] = slamCoords[i];\n",
    "    let [lat2, lon2] = slamCoords[i + 1];\n",
    "    let step = 0;\n",
    "    let deltaLat = (lat2 - lat1) / steps;\n",
    "    let deltaLon = (lon2 - lon1) / steps;\n",
    "\n",
    "    let move = setInterval(() => {{\n",
    "        let newLat = lat1 + step * deltaLat;\n",
    "        let newLon = lon1 + step * deltaLon;\n",
    "        plane.setLatLng([newLat, newLon]);\n",
    "\n",
    "        step++;\n",
    "        if (step > steps) {{\n",
    "            clearInterval(move);\n",
    "            i++;\n",
    "            flyToNext();\n",
    "        }}\n",
    "    }}, interval);\n",
    "}}\n",
    "\n",
    "flyToNext();\n",
    "</script>\n",
    "\n",
    "<style>\n",
    ".plane-icon {{\n",
    "    font-size: 22px;\n",
    "    line-height: 22px;\n",
    "}}\n",
    "</style>\n",
    "\"\"\"\n",
    "\n",
    "soup.body.append(BeautifulSoup(plane_script, \"html.parser\"))\n",
    "\n",
    "# === 9. Save final version ===\n",
    "with open(\"tennis_map_with_plane_animation.html\", \"w\", encoding=\"utf-8\") as f:\n",
    "    f.write(str(soup))\n",
    "\n",
    "print(\"✅ Done. Open 'tennis_map_with_plane_animation.html' to see your animated map.\")\n"
   ]
  },
  {
   "cell_type": "code",
   "execution_count": 10,
   "metadata": {},
   "outputs": [
    {
     "name": "stderr",
     "output_type": "stream",
     "text": [
      "/var/folders/b9/w9wcjfgs11ng2m16_rw_zqlc0000gn/T/ipykernel_45984/200542967.py:6: DtypeWarning: Columns (14,20,21,27,46,47,51) have mixed types. Specify dtype option on import or set low_memory=False.\n",
      "  df = pd.read_csv(file_path)\n"
     ]
    },
    {
     "data": {
      "application/vnd.plotly.v1+json": {
       "config": {
        "plotlyServerURL": "https://plot.ly"
       },
       "data": [
        {
         "fill": "toself",
         "name": "Federer R.",
         "r": [
          69.37668560063892,
          84.6890981462118,
          100,
          0,
          69.37668560063892
         ],
         "theta": [
          "Estimated Minutes",
          "Avg Sets Won",
          "Avg W1 Games",
          "Avg WRank",
          "Estimated Minutes"
         ],
         "type": "scatterpolar"
        },
        {
         "fill": "toself",
         "name": "Nadal R.",
         "r": [
          100,
          71.69182338457985,
          76.68337185776534,
          5.183087127009172,
          100
         ],
         "theta": [
          "Estimated Minutes",
          "Avg Sets Won",
          "Avg W1 Games",
          "Avg WRank",
          "Estimated Minutes"
         ],
         "type": "scatterpolar"
        },
        {
         "fill": "toself",
         "name": "Djokovic N.",
         "r": [
          93.54342390856377,
          100,
          71.06466753388138,
          2.7913789068340136,
          93.54342390856377
         ],
         "theta": [
          "Estimated Minutes",
          "Avg Sets Won",
          "Avg W1 Games",
          "Avg WRank",
          "Estimated Minutes"
         ],
         "type": "scatterpolar"
        },
        {
         "fill": "toself",
         "name": "Ferrer D.",
         "r": [
          27.419553086359052,
          0,
          0,
          58.25728892981344,
          27.419553086359052
         ],
         "theta": [
          "Estimated Minutes",
          "Avg Sets Won",
          "Avg W1 Games",
          "Avg WRank",
          "Estimated Minutes"
         ],
         "type": "scatterpolar"
        },
        {
         "fill": "toself",
         "name": "Murray A.",
         "r": [
          0,
          57.844025495781,
          29.885250235273034,
          100,
          0
         ],
         "theta": [
          "Estimated Minutes",
          "Avg Sets Won",
          "Avg W1 Games",
          "Avg WRank",
          "Estimated Minutes"
         ],
         "type": "scatterpolar"
        }
       ],
       "layout": {
        "height": 600,
        "polar": {
         "radialaxis": {
          "range": [
           0,
           100
          ],
          "visible": true
         }
        },
        "showlegend": true,
        "template": {
         "data": {
          "bar": [
           {
            "error_x": {
             "color": "#2a3f5f"
            },
            "error_y": {
             "color": "#2a3f5f"
            },
            "marker": {
             "line": {
              "color": "white",
              "width": 0.5
             },
             "pattern": {
              "fillmode": "overlay",
              "size": 10,
              "solidity": 0.2
             }
            },
            "type": "bar"
           }
          ],
          "barpolar": [
           {
            "marker": {
             "line": {
              "color": "white",
              "width": 0.5
             },
             "pattern": {
              "fillmode": "overlay",
              "size": 10,
              "solidity": 0.2
             }
            },
            "type": "barpolar"
           }
          ],
          "carpet": [
           {
            "aaxis": {
             "endlinecolor": "#2a3f5f",
             "gridcolor": "#C8D4E3",
             "linecolor": "#C8D4E3",
             "minorgridcolor": "#C8D4E3",
             "startlinecolor": "#2a3f5f"
            },
            "baxis": {
             "endlinecolor": "#2a3f5f",
             "gridcolor": "#C8D4E3",
             "linecolor": "#C8D4E3",
             "minorgridcolor": "#C8D4E3",
             "startlinecolor": "#2a3f5f"
            },
            "type": "carpet"
           }
          ],
          "choropleth": [
           {
            "colorbar": {
             "outlinewidth": 0,
             "ticks": ""
            },
            "type": "choropleth"
           }
          ],
          "contour": [
           {
            "colorbar": {
             "outlinewidth": 0,
             "ticks": ""
            },
            "colorscale": [
             [
              0,
              "#0d0887"
             ],
             [
              0.1111111111111111,
              "#46039f"
             ],
             [
              0.2222222222222222,
              "#7201a8"
             ],
             [
              0.3333333333333333,
              "#9c179e"
             ],
             [
              0.4444444444444444,
              "#bd3786"
             ],
             [
              0.5555555555555556,
              "#d8576b"
             ],
             [
              0.6666666666666666,
              "#ed7953"
             ],
             [
              0.7777777777777778,
              "#fb9f3a"
             ],
             [
              0.8888888888888888,
              "#fdca26"
             ],
             [
              1,
              "#f0f921"
             ]
            ],
            "type": "contour"
           }
          ],
          "contourcarpet": [
           {
            "colorbar": {
             "outlinewidth": 0,
             "ticks": ""
            },
            "type": "contourcarpet"
           }
          ],
          "heatmap": [
           {
            "colorbar": {
             "outlinewidth": 0,
             "ticks": ""
            },
            "colorscale": [
             [
              0,
              "#0d0887"
             ],
             [
              0.1111111111111111,
              "#46039f"
             ],
             [
              0.2222222222222222,
              "#7201a8"
             ],
             [
              0.3333333333333333,
              "#9c179e"
             ],
             [
              0.4444444444444444,
              "#bd3786"
             ],
             [
              0.5555555555555556,
              "#d8576b"
             ],
             [
              0.6666666666666666,
              "#ed7953"
             ],
             [
              0.7777777777777778,
              "#fb9f3a"
             ],
             [
              0.8888888888888888,
              "#fdca26"
             ],
             [
              1,
              "#f0f921"
             ]
            ],
            "type": "heatmap"
           }
          ],
          "heatmapgl": [
           {
            "colorbar": {
             "outlinewidth": 0,
             "ticks": ""
            },
            "colorscale": [
             [
              0,
              "#0d0887"
             ],
             [
              0.1111111111111111,
              "#46039f"
             ],
             [
              0.2222222222222222,
              "#7201a8"
             ],
             [
              0.3333333333333333,
              "#9c179e"
             ],
             [
              0.4444444444444444,
              "#bd3786"
             ],
             [
              0.5555555555555556,
              "#d8576b"
             ],
             [
              0.6666666666666666,
              "#ed7953"
             ],
             [
              0.7777777777777778,
              "#fb9f3a"
             ],
             [
              0.8888888888888888,
              "#fdca26"
             ],
             [
              1,
              "#f0f921"
             ]
            ],
            "type": "heatmapgl"
           }
          ],
          "histogram": [
           {
            "marker": {
             "pattern": {
              "fillmode": "overlay",
              "size": 10,
              "solidity": 0.2
             }
            },
            "type": "histogram"
           }
          ],
          "histogram2d": [
           {
            "colorbar": {
             "outlinewidth": 0,
             "ticks": ""
            },
            "colorscale": [
             [
              0,
              "#0d0887"
             ],
             [
              0.1111111111111111,
              "#46039f"
             ],
             [
              0.2222222222222222,
              "#7201a8"
             ],
             [
              0.3333333333333333,
              "#9c179e"
             ],
             [
              0.4444444444444444,
              "#bd3786"
             ],
             [
              0.5555555555555556,
              "#d8576b"
             ],
             [
              0.6666666666666666,
              "#ed7953"
             ],
             [
              0.7777777777777778,
              "#fb9f3a"
             ],
             [
              0.8888888888888888,
              "#fdca26"
             ],
             [
              1,
              "#f0f921"
             ]
            ],
            "type": "histogram2d"
           }
          ],
          "histogram2dcontour": [
           {
            "colorbar": {
             "outlinewidth": 0,
             "ticks": ""
            },
            "colorscale": [
             [
              0,
              "#0d0887"
             ],
             [
              0.1111111111111111,
              "#46039f"
             ],
             [
              0.2222222222222222,
              "#7201a8"
             ],
             [
              0.3333333333333333,
              "#9c179e"
             ],
             [
              0.4444444444444444,
              "#bd3786"
             ],
             [
              0.5555555555555556,
              "#d8576b"
             ],
             [
              0.6666666666666666,
              "#ed7953"
             ],
             [
              0.7777777777777778,
              "#fb9f3a"
             ],
             [
              0.8888888888888888,
              "#fdca26"
             ],
             [
              1,
              "#f0f921"
             ]
            ],
            "type": "histogram2dcontour"
           }
          ],
          "mesh3d": [
           {
            "colorbar": {
             "outlinewidth": 0,
             "ticks": ""
            },
            "type": "mesh3d"
           }
          ],
          "parcoords": [
           {
            "line": {
             "colorbar": {
              "outlinewidth": 0,
              "ticks": ""
             }
            },
            "type": "parcoords"
           }
          ],
          "pie": [
           {
            "automargin": true,
            "type": "pie"
           }
          ],
          "scatter": [
           {
            "fillpattern": {
             "fillmode": "overlay",
             "size": 10,
             "solidity": 0.2
            },
            "type": "scatter"
           }
          ],
          "scatter3d": [
           {
            "line": {
             "colorbar": {
              "outlinewidth": 0,
              "ticks": ""
             }
            },
            "marker": {
             "colorbar": {
              "outlinewidth": 0,
              "ticks": ""
             }
            },
            "type": "scatter3d"
           }
          ],
          "scattercarpet": [
           {
            "marker": {
             "colorbar": {
              "outlinewidth": 0,
              "ticks": ""
             }
            },
            "type": "scattercarpet"
           }
          ],
          "scattergeo": [
           {
            "marker": {
             "colorbar": {
              "outlinewidth": 0,
              "ticks": ""
             }
            },
            "type": "scattergeo"
           }
          ],
          "scattergl": [
           {
            "marker": {
             "colorbar": {
              "outlinewidth": 0,
              "ticks": ""
             }
            },
            "type": "scattergl"
           }
          ],
          "scattermapbox": [
           {
            "marker": {
             "colorbar": {
              "outlinewidth": 0,
              "ticks": ""
             }
            },
            "type": "scattermapbox"
           }
          ],
          "scatterpolar": [
           {
            "marker": {
             "colorbar": {
              "outlinewidth": 0,
              "ticks": ""
             }
            },
            "type": "scatterpolar"
           }
          ],
          "scatterpolargl": [
           {
            "marker": {
             "colorbar": {
              "outlinewidth": 0,
              "ticks": ""
             }
            },
            "type": "scatterpolargl"
           }
          ],
          "scatterternary": [
           {
            "marker": {
             "colorbar": {
              "outlinewidth": 0,
              "ticks": ""
             }
            },
            "type": "scatterternary"
           }
          ],
          "surface": [
           {
            "colorbar": {
             "outlinewidth": 0,
             "ticks": ""
            },
            "colorscale": [
             [
              0,
              "#0d0887"
             ],
             [
              0.1111111111111111,
              "#46039f"
             ],
             [
              0.2222222222222222,
              "#7201a8"
             ],
             [
              0.3333333333333333,
              "#9c179e"
             ],
             [
              0.4444444444444444,
              "#bd3786"
             ],
             [
              0.5555555555555556,
              "#d8576b"
             ],
             [
              0.6666666666666666,
              "#ed7953"
             ],
             [
              0.7777777777777778,
              "#fb9f3a"
             ],
             [
              0.8888888888888888,
              "#fdca26"
             ],
             [
              1,
              "#f0f921"
             ]
            ],
            "type": "surface"
           }
          ],
          "table": [
           {
            "cells": {
             "fill": {
              "color": "#EBF0F8"
             },
             "line": {
              "color": "white"
             }
            },
            "header": {
             "fill": {
              "color": "#C8D4E3"
             },
             "line": {
              "color": "white"
             }
            },
            "type": "table"
           }
          ]
         },
         "layout": {
          "annotationdefaults": {
           "arrowcolor": "#2a3f5f",
           "arrowhead": 0,
           "arrowwidth": 1
          },
          "autotypenumbers": "strict",
          "coloraxis": {
           "colorbar": {
            "outlinewidth": 0,
            "ticks": ""
           }
          },
          "colorscale": {
           "diverging": [
            [
             0,
             "#8e0152"
            ],
            [
             0.1,
             "#c51b7d"
            ],
            [
             0.2,
             "#de77ae"
            ],
            [
             0.3,
             "#f1b6da"
            ],
            [
             0.4,
             "#fde0ef"
            ],
            [
             0.5,
             "#f7f7f7"
            ],
            [
             0.6,
             "#e6f5d0"
            ],
            [
             0.7,
             "#b8e186"
            ],
            [
             0.8,
             "#7fbc41"
            ],
            [
             0.9,
             "#4d9221"
            ],
            [
             1,
             "#276419"
            ]
           ],
           "sequential": [
            [
             0,
             "#0d0887"
            ],
            [
             0.1111111111111111,
             "#46039f"
            ],
            [
             0.2222222222222222,
             "#7201a8"
            ],
            [
             0.3333333333333333,
             "#9c179e"
            ],
            [
             0.4444444444444444,
             "#bd3786"
            ],
            [
             0.5555555555555556,
             "#d8576b"
            ],
            [
             0.6666666666666666,
             "#ed7953"
            ],
            [
             0.7777777777777778,
             "#fb9f3a"
            ],
            [
             0.8888888888888888,
             "#fdca26"
            ],
            [
             1,
             "#f0f921"
            ]
           ],
           "sequentialminus": [
            [
             0,
             "#0d0887"
            ],
            [
             0.1111111111111111,
             "#46039f"
            ],
            [
             0.2222222222222222,
             "#7201a8"
            ],
            [
             0.3333333333333333,
             "#9c179e"
            ],
            [
             0.4444444444444444,
             "#bd3786"
            ],
            [
             0.5555555555555556,
             "#d8576b"
            ],
            [
             0.6666666666666666,
             "#ed7953"
            ],
            [
             0.7777777777777778,
             "#fb9f3a"
            ],
            [
             0.8888888888888888,
             "#fdca26"
            ],
            [
             1,
             "#f0f921"
            ]
           ]
          },
          "colorway": [
           "#636efa",
           "#EF553B",
           "#00cc96",
           "#ab63fa",
           "#FFA15A",
           "#19d3f3",
           "#FF6692",
           "#B6E880",
           "#FF97FF",
           "#FECB52"
          ],
          "font": {
           "color": "#2a3f5f"
          },
          "geo": {
           "bgcolor": "white",
           "lakecolor": "white",
           "landcolor": "white",
           "showlakes": true,
           "showland": true,
           "subunitcolor": "#C8D4E3"
          },
          "hoverlabel": {
           "align": "left"
          },
          "hovermode": "closest",
          "mapbox": {
           "style": "light"
          },
          "paper_bgcolor": "white",
          "plot_bgcolor": "white",
          "polar": {
           "angularaxis": {
            "gridcolor": "#EBF0F8",
            "linecolor": "#EBF0F8",
            "ticks": ""
           },
           "bgcolor": "white",
           "radialaxis": {
            "gridcolor": "#EBF0F8",
            "linecolor": "#EBF0F8",
            "ticks": ""
           }
          },
          "scene": {
           "xaxis": {
            "backgroundcolor": "white",
            "gridcolor": "#DFE8F3",
            "gridwidth": 2,
            "linecolor": "#EBF0F8",
            "showbackground": true,
            "ticks": "",
            "zerolinecolor": "#EBF0F8"
           },
           "yaxis": {
            "backgroundcolor": "white",
            "gridcolor": "#DFE8F3",
            "gridwidth": 2,
            "linecolor": "#EBF0F8",
            "showbackground": true,
            "ticks": "",
            "zerolinecolor": "#EBF0F8"
           },
           "zaxis": {
            "backgroundcolor": "white",
            "gridcolor": "#DFE8F3",
            "gridwidth": 2,
            "linecolor": "#EBF0F8",
            "showbackground": true,
            "ticks": "",
            "zerolinecolor": "#EBF0F8"
           }
          },
          "shapedefaults": {
           "line": {
            "color": "#2a3f5f"
           }
          },
          "ternary": {
           "aaxis": {
            "gridcolor": "#DFE8F3",
            "linecolor": "#A2B1C6",
            "ticks": ""
           },
           "baxis": {
            "gridcolor": "#DFE8F3",
            "linecolor": "#A2B1C6",
            "ticks": ""
           },
           "bgcolor": "white",
           "caxis": {
            "gridcolor": "#DFE8F3",
            "linecolor": "#A2B1C6",
            "ticks": ""
           }
          },
          "title": {
           "x": 0.05
          },
          "xaxis": {
           "automargin": true,
           "gridcolor": "#EBF0F8",
           "linecolor": "#EBF0F8",
           "ticks": "",
           "title": {
            "standoff": 15
           },
           "zerolinecolor": "#EBF0F8",
           "zerolinewidth": 2
          },
          "yaxis": {
           "automargin": true,
           "gridcolor": "#EBF0F8",
           "linecolor": "#EBF0F8",
           "ticks": "",
           "title": {
            "standoff": 15
           },
           "zerolinecolor": "#EBF0F8",
           "zerolinewidth": 2
          }
         }
        },
        "title": {
         "text": "Top 5 Players – Normalized Match Performance"
        }
       }
      }
     },
     "metadata": {},
     "output_type": "display_data"
    }
   ],
   "source": [
    "import pandas as pd\n",
    "import plotly.graph_objects as go\n",
    "\n",
    "# Load your CSV data\n",
    "file_path = \"/Users/karine/SmashData-1/Milestone 1/match_tennis_68_ajd.csv\"\n",
    "df = pd.read_csv(file_path)\n",
    "\n",
    "# --- Step 1: Clean & Compute Statistics ---\n",
    "# Focus on top 5 players by total wins\n",
    "top_players = df['Winner'].value_counts().head(5).index.tolist()\n",
    "\n",
    "# Ensure WRank is numeric\n",
    "df['WRank'] = pd.to_numeric(df['WRank'], errors='coerce')\n",
    "\n",
    "# Prepare statistics for radar plot\n",
    "player_stats = []\n",
    "for player in top_players:\n",
    "    subset = df[df['Winner'] == player]\n",
    "\n",
    "    avg_aces = pd.to_numeric(subset['W1'], errors='coerce').mean(skipna=True)  # proxy for ace if missing real ace column\n",
    "    avg_duration = subset.apply(\n",
    "        lambda row: sum([\n",
    "            pd.to_numeric(row.get(f\"W{i}\"), errors='coerce') +\n",
    "            pd.to_numeric(row.get(f\"L{i}\"), errors='coerce')\n",
    "            for i in range(1, 6)\n",
    "        ]), axis=1).mean() * 5  # estimate minutes\n",
    "\n",
    "    win_sets = pd.to_numeric(subset['Wsets'], errors='coerce').mean(skipna=True)\n",
    "    rank_avg = subset['WRank'].mean(skipna=True)\n",
    "\n",
    "    player_stats.append({\n",
    "        \"Player\": player,\n",
    "        \"Estimated Minutes\": avg_duration,\n",
    "        \"Avg Sets Won\": win_sets,\n",
    "        \"Avg W1 Games\": avg_aces,\n",
    "        \"Avg WRank\": rank_avg\n",
    "    })\n",
    "\n",
    "# Convert to DataFrame\n",
    "stats_df = pd.DataFrame(player_stats).set_index(\"Player\")\n",
    "\n",
    "# Normalize data to 0–100\n",
    "def normalize(series):\n",
    "    return 100 * (series - series.min()) / (series.max() - series.min())\n",
    "\n",
    "normalized = stats_df.apply(normalize)\n",
    "\n",
    "# --- Step 2: Plot Radar Chart ---\n",
    "categories = normalized.columns.tolist()\n",
    "\n",
    "fig = go.Figure()\n",
    "for player in normalized.index:\n",
    "    fig.add_trace(go.Scatterpolar(\n",
    "        r=normalized.loc[player].tolist() + [normalized.loc[player].tolist()[0]],\n",
    "        theta=categories + [categories[0]],\n",
    "        fill='toself',\n",
    "        name=player\n",
    "    ))\n",
    "\n",
    "fig.update_layout(\n",
    "    title=\"Top 5 Players – Normalized Match Performance\",\n",
    "    polar=dict(radialaxis=dict(visible=True, range=[0, 100])),\n",
    "    showlegend=True,\n",
    "    template=\"plotly_white\",\n",
    "    height=600\n",
    ")\n",
    "\n",
    "fig.show()"
   ]
  },
  {
   "cell_type": "code",
   "execution_count": 11,
   "metadata": {},
   "outputs": [
    {
     "name": "stderr",
     "output_type": "stream",
     "text": [
      "/var/folders/b9/w9wcjfgs11ng2m16_rw_zqlc0000gn/T/ipykernel_45984/470286360.py:7: DtypeWarning:\n",
      "\n",
      "Columns (14,20,21,27,46,47,51) have mixed types. Specify dtype option on import or set low_memory=False.\n",
      "\n"
     ]
    },
    {
     "data": {
      "application/vnd.plotly.v1+json": {
       "config": {
        "plotlyServerURL": "https://plot.ly"
       },
       "data": [
        {
         "fill": "toself",
         "hovertemplate": "Player=Federer R.<br>Value=%{r}<br>Metric=%{theta}<extra></extra>",
         "legendgroup": "Federer R.",
         "line": {
          "color": "#636efa",
          "dash": "solid"
         },
         "marker": {
          "symbol": "circle"
         },
         "mode": "lines",
         "name": "Federer R.",
         "r": [
          86.83712438003576,
          87.09476072618445,
          0,
          86.83712438003576
         ],
         "showlegend": true,
         "subplot": "polar",
         "theta": [
          "Avg Sets Won",
          "Avg W1 Games",
          "Avg WRank",
          "Avg Sets Won"
         ],
         "type": "scatterpolar"
        }
       ],
       "frames": [
        {
         "data": [
          {
           "hovertemplate": "Player=Federer R.<br>Value=%{r}<br>Metric=%{theta}<extra></extra>",
           "legendgroup": "Federer R.",
           "line": {
            "color": "#636efa",
            "dash": "solid"
           },
           "marker": {
            "symbol": "circle"
           },
           "mode": "lines",
           "name": "Federer R.",
           "r": [
            86.83712438003576,
            87.09476072618445,
            0,
            86.83712438003576
           ],
           "showlegend": true,
           "subplot": "polar",
           "theta": [
            "Avg Sets Won",
            "Avg W1 Games",
            "Avg WRank",
            "Avg Sets Won"
           ],
           "type": "scatterpolar"
          }
         ],
         "name": "Federer R."
        },
        {
         "data": [
          {
           "hovertemplate": "Player=Nadal R.<br>Value=%{r}<br>Metric=%{theta}<extra></extra>",
           "legendgroup": "Nadal R.",
           "line": {
            "color": "#EF553B",
            "dash": "solid"
           },
           "marker": {
            "symbol": "circle"
           },
           "mode": "lines",
           "name": "Nadal R.",
           "r": [
            75.66328806917645,
            68.54410105272765,
            3.857647215336195,
            75.66328806917645
           ],
           "showlegend": true,
           "subplot": "polar",
           "theta": [
            "Avg Sets Won",
            "Avg W1 Games",
            "Avg WRank",
            "Avg Sets Won"
           ],
           "type": "scatterpolar"
          }
         ],
         "name": "Nadal R."
        },
        {
         "data": [
          {
           "hovertemplate": "Player=Djokovic N.<br>Value=%{r}<br>Metric=%{theta}<extra></extra>",
           "legendgroup": "Djokovic N.",
           "line": {
            "color": "#00cc96",
            "dash": "solid"
           },
           "marker": {
            "symbol": "circle"
           },
           "mode": "lines",
           "name": "Djokovic N.",
           "r": [
            99.99999999999999,
            64.07387186339848,
            2.0775562522928372,
            99.99999999999999
           ],
           "showlegend": true,
           "subplot": "polar",
           "theta": [
            "Avg Sets Won",
            "Avg W1 Games",
            "Avg WRank",
            "Avg Sets Won"
           ],
           "type": "scatterpolar"
          }
         ],
         "name": "Djokovic N."
        },
        {
         "data": [
          {
           "hovertemplate": "Player=Ferrer D.<br>Value=%{r}<br>Metric=%{theta}<extra></extra>",
           "legendgroup": "Ferrer D.",
           "line": {
            "color": "#ab63fa",
            "dash": "solid"
           },
           "marker": {
            "symbol": "circle"
           },
           "mode": "lines",
           "name": "Ferrer D.",
           "r": [
            14.029390654688951,
            7.534973778023689,
            43.35950041087034,
            14.029390654688951
           ],
           "showlegend": true,
           "subplot": "polar",
           "theta": [
            "Avg Sets Won",
            "Avg W1 Games",
            "Avg WRank",
            "Avg Sets Won"
           ],
           "type": "scatterpolar"
          }
         ],
         "name": "Ferrer D."
        },
        {
         "data": [
          {
           "hovertemplate": "Player=Murray A.<br>Value=%{r}<br>Metric=%{theta}<extra></extra>",
           "legendgroup": "Murray A.",
           "line": {
            "color": "#FFA15A",
            "dash": "solid"
           },
           "marker": {
            "symbol": "circle"
           },
           "mode": "lines",
           "name": "Murray A.",
           "r": [
            63.75825184326896,
            31.311615194131626,
            74.42759731423224,
            63.75825184326896
           ],
           "showlegend": true,
           "subplot": "polar",
           "theta": [
            "Avg Sets Won",
            "Avg W1 Games",
            "Avg WRank",
            "Avg Sets Won"
           ],
           "type": "scatterpolar"
          }
         ],
         "name": "Murray A."
        },
        {
         "data": [
          {
           "hovertemplate": "Player=Berdych T.<br>Value=%{r}<br>Metric=%{theta}<extra></extra>",
           "legendgroup": "Berdych T.",
           "line": {
            "color": "#19d3f3",
            "dash": "solid"
           },
           "marker": {
            "symbol": "circle"
           },
           "mode": "lines",
           "name": "Berdych T.",
           "r": [
            37.72724754805473,
            81.77977320355588,
            35.25344579776911,
            37.72724754805473
           ],
           "showlegend": true,
           "subplot": "polar",
           "theta": [
            "Avg Sets Won",
            "Avg W1 Games",
            "Avg WRank",
            "Avg Sets Won"
           ],
           "type": "scatterpolar"
          }
         ],
         "name": "Berdych T."
        },
        {
         "data": [
          {
           "hovertemplate": "Player=Gasquet R.<br>Value=%{r}<br>Metric=%{theta}<extra></extra>",
           "legendgroup": "Gasquet R.",
           "line": {
            "color": "#FF6692",
            "dash": "solid"
           },
           "marker": {
            "symbol": "circle"
           },
           "mode": "lines",
           "name": "Gasquet R.",
           "r": [
            8.910470014528988,
            44.993974418668316,
            91.02609004962913,
            8.910470014528988
           ],
           "showlegend": true,
           "subplot": "polar",
           "theta": [
            "Avg Sets Won",
            "Avg W1 Games",
            "Avg WRank",
            "Avg Sets Won"
           ],
           "type": "scatterpolar"
          }
         ],
         "name": "Gasquet R."
        },
        {
         "data": [
          {
           "hovertemplate": "Player=Roddick A.<br>Value=%{r}<br>Metric=%{theta}<extra></extra>",
           "legendgroup": "Roddick A.",
           "line": {
            "color": "#B6E880",
            "dash": "solid"
           },
           "marker": {
            "symbol": "circle"
           },
           "mode": "lines",
           "name": "Roddick A.",
           "r": [
            31.726130354132323,
            100,
            35.90025167381949,
            31.726130354132323
           ],
           "showlegend": true,
           "subplot": "polar",
           "theta": [
            "Avg Sets Won",
            "Avg W1 Games",
            "Avg WRank",
            "Avg Sets Won"
           ],
           "type": "scatterpolar"
          }
         ],
         "name": "Roddick A."
        },
        {
         "data": [
          {
           "hovertemplate": "Player=Verdasco F.<br>Value=%{r}<br>Metric=%{theta}<extra></extra>",
           "legendgroup": "Verdasco F.",
           "line": {
            "color": "#FF97FF",
            "dash": "solid"
           },
           "marker": {
            "symbol": "circle"
           },
           "mode": "lines",
           "name": "Verdasco F.",
           "r": [
            0,
            0,
            100,
            0
           ],
           "showlegend": true,
           "subplot": "polar",
           "theta": [
            "Avg Sets Won",
            "Avg W1 Games",
            "Avg WRank",
            "Avg Sets Won"
           ],
           "type": "scatterpolar"
          }
         ],
         "name": "Verdasco F."
        },
        {
         "data": [
          {
           "hovertemplate": "Player=Cilic M.<br>Value=%{r}<br>Metric=%{theta}<extra></extra>",
           "legendgroup": "Cilic M.",
           "line": {
            "color": "#FECB52",
            "dash": "solid"
           },
           "marker": {
            "symbol": "circle"
           },
           "mode": "lines",
           "name": "Cilic M.",
           "r": [
            36.684808749366624,
            70.40759837764239,
            66.28524315872201,
            36.684808749366624
           ],
           "showlegend": true,
           "subplot": "polar",
           "theta": [
            "Avg Sets Won",
            "Avg W1 Games",
            "Avg WRank",
            "Avg Sets Won"
           ],
           "type": "scatterpolar"
          }
         ],
         "name": "Cilic M."
        }
       ],
       "layout": {
        "height": 650,
        "legend": {
         "title": {
          "text": "Player"
         },
         "tracegroupgap": 0
        },
        "margin": {
         "t": 60
        },
        "polar": {
         "angularaxis": {
          "direction": "clockwise",
          "rotation": 90
         },
         "domain": {
          "x": [
           0,
           1
          ],
          "y": [
           0,
           1
          ]
         },
         "radialaxis": {
          "range": [
           0,
           100
          ],
          "visible": true
         }
        },
        "showlegend": false,
        "sliders": [
         {
          "active": 0,
          "currentvalue": {
           "prefix": "Player="
          },
          "len": 0.9,
          "pad": {
           "b": 10,
           "t": 60
          },
          "steps": [
           {
            "args": [
             [
              "Federer R."
             ],
             {
              "frame": {
               "duration": 0,
               "redraw": true
              },
              "fromcurrent": true,
              "mode": "immediate",
              "transition": {
               "duration": 0,
               "easing": "linear"
              }
             }
            ],
            "label": "Federer R.",
            "method": "animate"
           },
           {
            "args": [
             [
              "Nadal R."
             ],
             {
              "frame": {
               "duration": 0,
               "redraw": true
              },
              "fromcurrent": true,
              "mode": "immediate",
              "transition": {
               "duration": 0,
               "easing": "linear"
              }
             }
            ],
            "label": "Nadal R.",
            "method": "animate"
           },
           {
            "args": [
             [
              "Djokovic N."
             ],
             {
              "frame": {
               "duration": 0,
               "redraw": true
              },
              "fromcurrent": true,
              "mode": "immediate",
              "transition": {
               "duration": 0,
               "easing": "linear"
              }
             }
            ],
            "label": "Djokovic N.",
            "method": "animate"
           },
           {
            "args": [
             [
              "Ferrer D."
             ],
             {
              "frame": {
               "duration": 0,
               "redraw": true
              },
              "fromcurrent": true,
              "mode": "immediate",
              "transition": {
               "duration": 0,
               "easing": "linear"
              }
             }
            ],
            "label": "Ferrer D.",
            "method": "animate"
           },
           {
            "args": [
             [
              "Murray A."
             ],
             {
              "frame": {
               "duration": 0,
               "redraw": true
              },
              "fromcurrent": true,
              "mode": "immediate",
              "transition": {
               "duration": 0,
               "easing": "linear"
              }
             }
            ],
            "label": "Murray A.",
            "method": "animate"
           },
           {
            "args": [
             [
              "Berdych T."
             ],
             {
              "frame": {
               "duration": 0,
               "redraw": true
              },
              "fromcurrent": true,
              "mode": "immediate",
              "transition": {
               "duration": 0,
               "easing": "linear"
              }
             }
            ],
            "label": "Berdych T.",
            "method": "animate"
           },
           {
            "args": [
             [
              "Gasquet R."
             ],
             {
              "frame": {
               "duration": 0,
               "redraw": true
              },
              "fromcurrent": true,
              "mode": "immediate",
              "transition": {
               "duration": 0,
               "easing": "linear"
              }
             }
            ],
            "label": "Gasquet R.",
            "method": "animate"
           },
           {
            "args": [
             [
              "Roddick A."
             ],
             {
              "frame": {
               "duration": 0,
               "redraw": true
              },
              "fromcurrent": true,
              "mode": "immediate",
              "transition": {
               "duration": 0,
               "easing": "linear"
              }
             }
            ],
            "label": "Roddick A.",
            "method": "animate"
           },
           {
            "args": [
             [
              "Verdasco F."
             ],
             {
              "frame": {
               "duration": 0,
               "redraw": true
              },
              "fromcurrent": true,
              "mode": "immediate",
              "transition": {
               "duration": 0,
               "easing": "linear"
              }
             }
            ],
            "label": "Verdasco F.",
            "method": "animate"
           },
           {
            "args": [
             [
              "Cilic M."
             ],
             {
              "frame": {
               "duration": 0,
               "redraw": true
              },
              "fromcurrent": true,
              "mode": "immediate",
              "transition": {
               "duration": 0,
               "easing": "linear"
              }
             }
            ],
            "label": "Cilic M.",
            "method": "animate"
           }
          ],
          "x": 0.1,
          "xanchor": "left",
          "y": 0,
          "yanchor": "top"
         }
        ],
        "template": {
         "data": {
          "bar": [
           {
            "error_x": {
             "color": "#f2f5fa"
            },
            "error_y": {
             "color": "#f2f5fa"
            },
            "marker": {
             "line": {
              "color": "rgb(17,17,17)",
              "width": 0.5
             },
             "pattern": {
              "fillmode": "overlay",
              "size": 10,
              "solidity": 0.2
             }
            },
            "type": "bar"
           }
          ],
          "barpolar": [
           {
            "marker": {
             "line": {
              "color": "rgb(17,17,17)",
              "width": 0.5
             },
             "pattern": {
              "fillmode": "overlay",
              "size": 10,
              "solidity": 0.2
             }
            },
            "type": "barpolar"
           }
          ],
          "carpet": [
           {
            "aaxis": {
             "endlinecolor": "#A2B1C6",
             "gridcolor": "#506784",
             "linecolor": "#506784",
             "minorgridcolor": "#506784",
             "startlinecolor": "#A2B1C6"
            },
            "baxis": {
             "endlinecolor": "#A2B1C6",
             "gridcolor": "#506784",
             "linecolor": "#506784",
             "minorgridcolor": "#506784",
             "startlinecolor": "#A2B1C6"
            },
            "type": "carpet"
           }
          ],
          "choropleth": [
           {
            "colorbar": {
             "outlinewidth": 0,
             "ticks": ""
            },
            "type": "choropleth"
           }
          ],
          "contour": [
           {
            "colorbar": {
             "outlinewidth": 0,
             "ticks": ""
            },
            "colorscale": [
             [
              0,
              "#0d0887"
             ],
             [
              0.1111111111111111,
              "#46039f"
             ],
             [
              0.2222222222222222,
              "#7201a8"
             ],
             [
              0.3333333333333333,
              "#9c179e"
             ],
             [
              0.4444444444444444,
              "#bd3786"
             ],
             [
              0.5555555555555556,
              "#d8576b"
             ],
             [
              0.6666666666666666,
              "#ed7953"
             ],
             [
              0.7777777777777778,
              "#fb9f3a"
             ],
             [
              0.8888888888888888,
              "#fdca26"
             ],
             [
              1,
              "#f0f921"
             ]
            ],
            "type": "contour"
           }
          ],
          "contourcarpet": [
           {
            "colorbar": {
             "outlinewidth": 0,
             "ticks": ""
            },
            "type": "contourcarpet"
           }
          ],
          "heatmap": [
           {
            "colorbar": {
             "outlinewidth": 0,
             "ticks": ""
            },
            "colorscale": [
             [
              0,
              "#0d0887"
             ],
             [
              0.1111111111111111,
              "#46039f"
             ],
             [
              0.2222222222222222,
              "#7201a8"
             ],
             [
              0.3333333333333333,
              "#9c179e"
             ],
             [
              0.4444444444444444,
              "#bd3786"
             ],
             [
              0.5555555555555556,
              "#d8576b"
             ],
             [
              0.6666666666666666,
              "#ed7953"
             ],
             [
              0.7777777777777778,
              "#fb9f3a"
             ],
             [
              0.8888888888888888,
              "#fdca26"
             ],
             [
              1,
              "#f0f921"
             ]
            ],
            "type": "heatmap"
           }
          ],
          "heatmapgl": [
           {
            "colorbar": {
             "outlinewidth": 0,
             "ticks": ""
            },
            "colorscale": [
             [
              0,
              "#0d0887"
             ],
             [
              0.1111111111111111,
              "#46039f"
             ],
             [
              0.2222222222222222,
              "#7201a8"
             ],
             [
              0.3333333333333333,
              "#9c179e"
             ],
             [
              0.4444444444444444,
              "#bd3786"
             ],
             [
              0.5555555555555556,
              "#d8576b"
             ],
             [
              0.6666666666666666,
              "#ed7953"
             ],
             [
              0.7777777777777778,
              "#fb9f3a"
             ],
             [
              0.8888888888888888,
              "#fdca26"
             ],
             [
              1,
              "#f0f921"
             ]
            ],
            "type": "heatmapgl"
           }
          ],
          "histogram": [
           {
            "marker": {
             "pattern": {
              "fillmode": "overlay",
              "size": 10,
              "solidity": 0.2
             }
            },
            "type": "histogram"
           }
          ],
          "histogram2d": [
           {
            "colorbar": {
             "outlinewidth": 0,
             "ticks": ""
            },
            "colorscale": [
             [
              0,
              "#0d0887"
             ],
             [
              0.1111111111111111,
              "#46039f"
             ],
             [
              0.2222222222222222,
              "#7201a8"
             ],
             [
              0.3333333333333333,
              "#9c179e"
             ],
             [
              0.4444444444444444,
              "#bd3786"
             ],
             [
              0.5555555555555556,
              "#d8576b"
             ],
             [
              0.6666666666666666,
              "#ed7953"
             ],
             [
              0.7777777777777778,
              "#fb9f3a"
             ],
             [
              0.8888888888888888,
              "#fdca26"
             ],
             [
              1,
              "#f0f921"
             ]
            ],
            "type": "histogram2d"
           }
          ],
          "histogram2dcontour": [
           {
            "colorbar": {
             "outlinewidth": 0,
             "ticks": ""
            },
            "colorscale": [
             [
              0,
              "#0d0887"
             ],
             [
              0.1111111111111111,
              "#46039f"
             ],
             [
              0.2222222222222222,
              "#7201a8"
             ],
             [
              0.3333333333333333,
              "#9c179e"
             ],
             [
              0.4444444444444444,
              "#bd3786"
             ],
             [
              0.5555555555555556,
              "#d8576b"
             ],
             [
              0.6666666666666666,
              "#ed7953"
             ],
             [
              0.7777777777777778,
              "#fb9f3a"
             ],
             [
              0.8888888888888888,
              "#fdca26"
             ],
             [
              1,
              "#f0f921"
             ]
            ],
            "type": "histogram2dcontour"
           }
          ],
          "mesh3d": [
           {
            "colorbar": {
             "outlinewidth": 0,
             "ticks": ""
            },
            "type": "mesh3d"
           }
          ],
          "parcoords": [
           {
            "line": {
             "colorbar": {
              "outlinewidth": 0,
              "ticks": ""
             }
            },
            "type": "parcoords"
           }
          ],
          "pie": [
           {
            "automargin": true,
            "type": "pie"
           }
          ],
          "scatter": [
           {
            "marker": {
             "line": {
              "color": "#283442"
             }
            },
            "type": "scatter"
           }
          ],
          "scatter3d": [
           {
            "line": {
             "colorbar": {
              "outlinewidth": 0,
              "ticks": ""
             }
            },
            "marker": {
             "colorbar": {
              "outlinewidth": 0,
              "ticks": ""
             }
            },
            "type": "scatter3d"
           }
          ],
          "scattercarpet": [
           {
            "marker": {
             "colorbar": {
              "outlinewidth": 0,
              "ticks": ""
             }
            },
            "type": "scattercarpet"
           }
          ],
          "scattergeo": [
           {
            "marker": {
             "colorbar": {
              "outlinewidth": 0,
              "ticks": ""
             }
            },
            "type": "scattergeo"
           }
          ],
          "scattergl": [
           {
            "marker": {
             "line": {
              "color": "#283442"
             }
            },
            "type": "scattergl"
           }
          ],
          "scattermapbox": [
           {
            "marker": {
             "colorbar": {
              "outlinewidth": 0,
              "ticks": ""
             }
            },
            "type": "scattermapbox"
           }
          ],
          "scatterpolar": [
           {
            "marker": {
             "colorbar": {
              "outlinewidth": 0,
              "ticks": ""
             }
            },
            "type": "scatterpolar"
           }
          ],
          "scatterpolargl": [
           {
            "marker": {
             "colorbar": {
              "outlinewidth": 0,
              "ticks": ""
             }
            },
            "type": "scatterpolargl"
           }
          ],
          "scatterternary": [
           {
            "marker": {
             "colorbar": {
              "outlinewidth": 0,
              "ticks": ""
             }
            },
            "type": "scatterternary"
           }
          ],
          "surface": [
           {
            "colorbar": {
             "outlinewidth": 0,
             "ticks": ""
            },
            "colorscale": [
             [
              0,
              "#0d0887"
             ],
             [
              0.1111111111111111,
              "#46039f"
             ],
             [
              0.2222222222222222,
              "#7201a8"
             ],
             [
              0.3333333333333333,
              "#9c179e"
             ],
             [
              0.4444444444444444,
              "#bd3786"
             ],
             [
              0.5555555555555556,
              "#d8576b"
             ],
             [
              0.6666666666666666,
              "#ed7953"
             ],
             [
              0.7777777777777778,
              "#fb9f3a"
             ],
             [
              0.8888888888888888,
              "#fdca26"
             ],
             [
              1,
              "#f0f921"
             ]
            ],
            "type": "surface"
           }
          ],
          "table": [
           {
            "cells": {
             "fill": {
              "color": "#506784"
             },
             "line": {
              "color": "rgb(17,17,17)"
             }
            },
            "header": {
             "fill": {
              "color": "#2a3f5f"
             },
             "line": {
              "color": "rgb(17,17,17)"
             }
            },
            "type": "table"
           }
          ]
         },
         "layout": {
          "annotationdefaults": {
           "arrowcolor": "#f2f5fa",
           "arrowhead": 0,
           "arrowwidth": 1
          },
          "autotypenumbers": "strict",
          "coloraxis": {
           "colorbar": {
            "outlinewidth": 0,
            "ticks": ""
           }
          },
          "colorscale": {
           "diverging": [
            [
             0,
             "#8e0152"
            ],
            [
             0.1,
             "#c51b7d"
            ],
            [
             0.2,
             "#de77ae"
            ],
            [
             0.3,
             "#f1b6da"
            ],
            [
             0.4,
             "#fde0ef"
            ],
            [
             0.5,
             "#f7f7f7"
            ],
            [
             0.6,
             "#e6f5d0"
            ],
            [
             0.7,
             "#b8e186"
            ],
            [
             0.8,
             "#7fbc41"
            ],
            [
             0.9,
             "#4d9221"
            ],
            [
             1,
             "#276419"
            ]
           ],
           "sequential": [
            [
             0,
             "#0d0887"
            ],
            [
             0.1111111111111111,
             "#46039f"
            ],
            [
             0.2222222222222222,
             "#7201a8"
            ],
            [
             0.3333333333333333,
             "#9c179e"
            ],
            [
             0.4444444444444444,
             "#bd3786"
            ],
            [
             0.5555555555555556,
             "#d8576b"
            ],
            [
             0.6666666666666666,
             "#ed7953"
            ],
            [
             0.7777777777777778,
             "#fb9f3a"
            ],
            [
             0.8888888888888888,
             "#fdca26"
            ],
            [
             1,
             "#f0f921"
            ]
           ],
           "sequentialminus": [
            [
             0,
             "#0d0887"
            ],
            [
             0.1111111111111111,
             "#46039f"
            ],
            [
             0.2222222222222222,
             "#7201a8"
            ],
            [
             0.3333333333333333,
             "#9c179e"
            ],
            [
             0.4444444444444444,
             "#bd3786"
            ],
            [
             0.5555555555555556,
             "#d8576b"
            ],
            [
             0.6666666666666666,
             "#ed7953"
            ],
            [
             0.7777777777777778,
             "#fb9f3a"
            ],
            [
             0.8888888888888888,
             "#fdca26"
            ],
            [
             1,
             "#f0f921"
            ]
           ]
          },
          "colorway": [
           "#636efa",
           "#EF553B",
           "#00cc96",
           "#ab63fa",
           "#FFA15A",
           "#19d3f3",
           "#FF6692",
           "#B6E880",
           "#FF97FF",
           "#FECB52"
          ],
          "font": {
           "color": "#f2f5fa"
          },
          "geo": {
           "bgcolor": "rgb(17,17,17)",
           "lakecolor": "rgb(17,17,17)",
           "landcolor": "rgb(17,17,17)",
           "showlakes": true,
           "showland": true,
           "subunitcolor": "#506784"
          },
          "hoverlabel": {
           "align": "left"
          },
          "hovermode": "closest",
          "mapbox": {
           "style": "dark"
          },
          "paper_bgcolor": "rgb(17,17,17)",
          "plot_bgcolor": "rgb(17,17,17)",
          "polar": {
           "angularaxis": {
            "gridcolor": "#506784",
            "linecolor": "#506784",
            "ticks": ""
           },
           "bgcolor": "rgb(17,17,17)",
           "radialaxis": {
            "gridcolor": "#506784",
            "linecolor": "#506784",
            "ticks": ""
           }
          },
          "scene": {
           "xaxis": {
            "backgroundcolor": "rgb(17,17,17)",
            "gridcolor": "#506784",
            "gridwidth": 2,
            "linecolor": "#506784",
            "showbackground": true,
            "ticks": "",
            "zerolinecolor": "#C8D4E3"
           },
           "yaxis": {
            "backgroundcolor": "rgb(17,17,17)",
            "gridcolor": "#506784",
            "gridwidth": 2,
            "linecolor": "#506784",
            "showbackground": true,
            "ticks": "",
            "zerolinecolor": "#C8D4E3"
           },
           "zaxis": {
            "backgroundcolor": "rgb(17,17,17)",
            "gridcolor": "#506784",
            "gridwidth": 2,
            "linecolor": "#506784",
            "showbackground": true,
            "ticks": "",
            "zerolinecolor": "#C8D4E3"
           }
          },
          "shapedefaults": {
           "line": {
            "color": "#f2f5fa"
           }
          },
          "sliderdefaults": {
           "bgcolor": "#C8D4E3",
           "bordercolor": "rgb(17,17,17)",
           "borderwidth": 1,
           "tickwidth": 0
          },
          "ternary": {
           "aaxis": {
            "gridcolor": "#506784",
            "linecolor": "#506784",
            "ticks": ""
           },
           "baxis": {
            "gridcolor": "#506784",
            "linecolor": "#506784",
            "ticks": ""
           },
           "bgcolor": "rgb(17,17,17)",
           "caxis": {
            "gridcolor": "#506784",
            "linecolor": "#506784",
            "ticks": ""
           }
          },
          "title": {
           "x": 0.05
          },
          "updatemenudefaults": {
           "bgcolor": "#506784",
           "borderwidth": 0
          },
          "xaxis": {
           "automargin": true,
           "gridcolor": "#283442",
           "linecolor": "#506784",
           "ticks": "",
           "title": {
            "standoff": 15
           },
           "zerolinecolor": "#283442",
           "zerolinewidth": 2
          },
          "yaxis": {
           "automargin": true,
           "gridcolor": "#283442",
           "linecolor": "#506784",
           "ticks": "",
           "title": {
            "standoff": 15
           },
           "zerolinecolor": "#283442",
           "zerolinewidth": 2
          }
         }
        },
        "title": {
         "text": "Interactive Radar Chart: Top 10 Tennis Players"
        },
        "updatemenus": [
         {
          "buttons": [
           {
            "args": [
             null,
             {
              "frame": {
               "duration": 1000,
               "redraw": true
              },
              "fromcurrent": true
             }
            ],
            "label": "Play",
            "method": "animate"
           },
           {
            "args": [
             [
              null
             ],
             {
              "frame": {
               "duration": 0,
               "redraw": false
              },
              "mode": "immediate"
             }
            ],
            "label": "Pause",
            "method": "animate"
           }
          ],
          "direction": "left",
          "pad": {
           "r": 10,
           "t": 87
          },
          "showactive": false,
          "type": "buttons",
          "x": 0.1,
          "xanchor": "right",
          "y": 0,
          "yanchor": "top"
         }
        ]
       }
      }
     },
     "metadata": {},
     "output_type": "display_data"
    }
   ],
   "source": [
    "import pandas as pd\n",
    "import plotly.express as px\n",
    "import plotly.graph_objects as go\n",
    "\n",
    "# Load your CSV data\n",
    "file_path = \"/Users/karine/SmashData-1/Milestone 1/match_tennis_68_ajd.csv\"\n",
    "df = pd.read_csv(file_path)\n",
    "\n",
    "# --- Step 1: Clean & Compute Statistics ---\n",
    "# Focus on top 10 players by total wins\n",
    "top_players = df['Winner'].value_counts().head(10).index.tolist()\n",
    "\n",
    "# Ensure WRank is numeric\n",
    "df['WRank'] = pd.to_numeric(df['WRank'], errors='coerce')\n",
    "\n",
    "# Prepare statistics for radar plot\n",
    "player_stats = []\n",
    "for player in top_players:\n",
    "    subset = df[df['Winner'] == player]\n",
    "\n",
    "    avg_aces = pd.to_numeric(subset['W1'], errors='coerce').mean(skipna=True)  # proxy for ace if missing real ace column\n",
    "    win_sets = pd.to_numeric(subset['Wsets'], errors='coerce').mean(skipna=True)\n",
    "    rank_avg = subset['WRank'].mean(skipna=True)\n",
    "\n",
    "    player_stats.append({\n",
    "        \"Player\": player,\n",
    "        \"Avg Sets Won\": win_sets,\n",
    "        \"Avg W1 Games\": avg_aces,\n",
    "        \"Avg WRank\": rank_avg\n",
    "    })\n",
    "\n",
    "# Convert to DataFrame\n",
    "stats_df = pd.DataFrame(player_stats)\n",
    "\n",
    "# Normalize selected columns to 0–100 for visual comparison\n",
    "features = ['Avg Sets Won', 'Avg W1 Games', 'Avg WRank']\n",
    "for feature in features:\n",
    "    min_val = stats_df[feature].min()\n",
    "    max_val = stats_df[feature].max()\n",
    "    stats_df[feature] = 100 * (stats_df[feature] - min_val) / (max_val - min_val)\n",
    "\n",
    "# Melt the DataFrame for plotly express compatibility\n",
    "df_melted = stats_df.melt(id_vars=\"Player\", var_name=\"Metric\", value_name=\"Value\")\n",
    "\n",
    "# Create animated radar plot with dropdown menu\n",
    "fig = px.line_polar(\n",
    "    df_melted,\n",
    "    r=\"Value\",\n",
    "    theta=\"Metric\",\n",
    "    color=\"Player\",\n",
    "    line_close=True,\n",
    "    template=\"plotly_dark\",\n",
    "    height=650,\n",
    "    animation_frame=\"Player\"\n",
    ")\n",
    "\n",
    "fig.update_traces(fill=\"toself\")\n",
    "fig.update_layout(\n",
    "    title=\"Interactive Radar Chart: Top 10 Tennis Players\",\n",
    "    polar=dict(radialaxis=dict(visible=True, range=[0, 100])),\n",
    "    showlegend=False,\n",
    "    updatemenus=[{\n",
    "        \"buttons\": [\n",
    "            {\n",
    "                \"args\": [None, {\"frame\": {\"duration\": 1000, \"redraw\": True}, \"fromcurrent\": True}],\n",
    "                \"label\": \"Play\",\n",
    "                \"method\": \"animate\"\n",
    "            },\n",
    "            {\n",
    "                \"args\": [[None], {\"frame\": {\"duration\": 0, \"redraw\": False}, \"mode\": \"immediate\"}],\n",
    "                \"label\": \"Pause\",\n",
    "                \"method\": \"animate\"\n",
    "            }\n",
    "        ],\n",
    "        \"type\": \"buttons\",\n",
    "        \"direction\": \"left\",\n",
    "        \"pad\": {\"r\": 10, \"t\": 87},\n",
    "        \"x\": 0.1,\n",
    "        \"xanchor\": \"right\",\n",
    "        \"y\": 0,\n",
    "        \"yanchor\": \"top\"\n",
    "    }]\n",
    ")\n",
    "\n",
    "fig.show()"
   ]
  },
  {
   "cell_type": "code",
   "execution_count": 1,
   "metadata": {},
   "outputs": [
    {
     "name": "stdout",
     "output_type": "stream",
     "text": [
      "Error: HTTPSConnectionPool(host='nominatim.openstreetmap.org', port=443): Max retries exceeded with url: /search?q=London&format=json&limit=1 (Caused by ConnectTimeoutError(<urllib3.connection.HTTPSConnection object at 0x16590c250>, 'Connection to nominatim.openstreetmap.org timed out. (connect timeout=1)'))\n",
      "Error: HTTPSConnectionPool(host='nominatim.openstreetmap.org', port=443): Max retries exceeded with url: /search?q=New+York&format=json&limit=1 (Caused by ReadTimeoutError(\"HTTPSConnectionPool(host='nominatim.openstreetmap.org', port=443): Read timed out. (read timeout=1)\"))\n"
     ]
    }
   ],
   "source": [
    "import pandas as pd\n",
    "import folium\n",
    "from folium.plugins import TimestampedGeoJson\n",
    "import pycountry\n",
    "from geopy.geocoders import Nominatim\n",
    "import time\n",
    "\n",
    "# Grand Slam details\n",
    "slams = [\n",
    "    {\"name\": \"Australian Open\", \"city\": \"Melbourne\", \"surface\": \"Hard\"},\n",
    "    {\"name\": \"Roland Garros\", \"city\": \"Paris\", \"surface\": \"Clay\"},\n",
    "    {\"name\": \"Wimbledon\", \"city\": \"London\", \"surface\": \"Grass\"},\n",
    "    {\"name\": \"US Open\", \"city\": \"New York\", \"surface\": \"Hard\"}\n",
    "]\n",
    "\n",
    "# Top players per Slam (replace with your dataset logic if needed)\n",
    "slam_top_players = {\n",
    "    \"Australian Open\": (\"Djokovic\", \"Serbia\"),\n",
    "    \"Roland Garros\": (\"Nadal\", \"Spain\"),\n",
    "    \"Wimbledon\": (\"Federer\", \"Switzerland\"),\n",
    "    \"US Open\": (\"Sampras\", \"United States\")\n",
    "}\n",
    "\n",
    "# Surface colors\n",
    "surface_colors = {\n",
    "    \"Hard\": \"#4A90E2\",\n",
    "    \"Clay\": \"#CC6600\",\n",
    "    \"Grass\": \"#2E8B57\"\n",
    "}\n",
    "\n",
    "# Get country flag\n",
    "def country_to_flag(country_name):\n",
    "    try:\n",
    "        country = pycountry.countries.search_fuzzy(country_name)[0]\n",
    "        code = country.alpha_2\n",
    "        return ''.join(chr(0x1F1E6 + ord(c) - ord('A')) for c in code.upper())\n",
    "    except:\n",
    "        return ''\n",
    "\n",
    "# Geocode cities\n",
    "geolocator = Nominatim(user_agent=\"grand_slam_animator\")\n",
    "\n",
    "def geocode_city(city):\n",
    "    try:\n",
    "        location = geolocator.geocode(city)\n",
    "        time.sleep(1)\n",
    "        if location:\n",
    "            return location.latitude, location.longitude\n",
    "    except Exception as e:\n",
    "        print(f\"Error: {e}\")\n",
    "    return None, None\n",
    "\n",
    "# Build features for animation\n",
    "features = []\n",
    "for i, slam in enumerate(slams):\n",
    "    player, country = slam_top_players[slam[\"name\"]]\n",
    "    flag = country_to_flag(country)\n",
    "    lat, lon = geocode_city(slam[\"city\"])\n",
    "\n",
    "    if lat is None or lon is None:\n",
    "        continue\n",
    "\n",
    "    popup = f\"\"\"\n",
    "    <div style='width:200px'>\n",
    "        <b>{slam['name']}</b><br>\n",
    "        Surface: {slam['surface']}<br>\n",
    "        Top Player: {flag} {player}\n",
    "    </div>\n",
    "    \"\"\"\n",
    "\n",
    "    feature = {\n",
    "        \"type\": \"Feature\",\n",
    "        \"geometry\": {\n",
    "            \"type\": \"Point\",\n",
    "            \"coordinates\": [lon, lat]\n",
    "        },\n",
    "        \"properties\": {\n",
    "            \"time\": f\"2025-01-0{i+1}T00:00:00\",  # Fake dates for animation steps\n",
    "            \"style\": {\n",
    "                \"color\": surface_colors.get(slam[\"surface\"], \"gray\"),\n",
    "                \"fillColor\": surface_colors.get(slam[\"surface\"], \"gray\"),\n",
    "                \"radius\": 15,\n",
    "                \"fillOpacity\": 0.7\n",
    "            },\n",
    "            \"popup\": popup,\n",
    "            \"icon\": \"circle\"\n",
    "        }\n",
    "    }\n",
    "    features.append(feature)\n",
    "\n",
    "# Build map\n",
    "m = folium.Map(location=[20, 0], zoom_start=2, control_scale=True)\n",
    "\n",
    "# Add animated geojson\n",
    "TimestampedGeoJson(\n",
    "    {\n",
    "        \"type\": \"FeatureCollection\",\n",
    "        \"features\": features\n",
    "    },\n",
    "    period=\"P1M\",\n",
    "    add_last_point=True,\n",
    "    auto_play=True,\n",
    "    loop=False,\n",
    "    max_speed=1,\n",
    "    loop_button=True,\n",
    "    date_options=\"YYYY\",\n",
    "    time_slider_drag_update=True\n",
    ").add_to(m)\n",
    "\n",
    "# Save it\n",
    "m.save(\"grand_slam_animation_map.html\")\n"
   ]
  }
 ],
 "metadata": {
  "kernelspec": {
   "display_name": "base",
   "language": "python",
   "name": "python3"
  },
  "language_info": {
   "codemirror_mode": {
    "name": "ipython",
    "version": 3
   },
   "file_extension": ".py",
   "mimetype": "text/x-python",
   "name": "python",
   "nbconvert_exporter": "python",
   "pygments_lexer": "ipython3",
   "version": "3.9.18"
  }
 },
 "nbformat": 4,
 "nbformat_minor": 2
}
